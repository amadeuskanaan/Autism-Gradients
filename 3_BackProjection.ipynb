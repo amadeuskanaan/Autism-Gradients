{
 "cells": [
  {
   "cell_type": "markdown",
   "metadata": {},
   "source": [
    "## Step 3 - Back project the embeddings to individuals\n",
    "\n",
    "\n",
    "#####  written by R.A.I. Bethlehem, D. Margulies and M. Falkiewicz  for the Autism Gradients project at Brainhack Cambridge 2017"
   ]
  },
  {
   "cell_type": "code",
   "execution_count": 23,
   "metadata": {
    "collapsed": false
   },
   "outputs": [],
   "source": [
    "# first import the input list from the csv file\n",
    "import pandas as pd\n",
    "# read in csv\n",
    "df_phen = pd.read_csv('./data/SelectedSubjects.csv')\n",
    "selected = list(df_phen.filename_1D)"
   ]
  },
  {
   "cell_type": "code",
   "execution_count": null,
   "metadata": {
    "collapsed": false
   },
   "outputs": [],
   "source": [
    "Run the back projection ysing pySTATIS"
   ]
  },
  {
   "cell_type": "code",
   "execution_count": 26,
   "metadata": {
    "collapsed": false
   },
   "outputs": [],
   "source": [
    "%%capture\n",
    "from pySTATIS import statis\n",
    "import numpy as np \n",
    "import os\n",
    "\n",
    "#load vectors\n",
    "names = list(xrange(392))\n",
    "X = [np.load(\"./data/Outputs/Embs/\"+ os.path.basename(filename)+\"_embedding_dense_res_veconly.npy\") for filename in selected]\n",
    "out = statis.statis(X, names, fname='./data/Outputs/statis_results.npy')\n",
    "statis.project_back(X, out['Q'], path = \"./data/Outputs/Regs/\",fnames = selected)\n",
    "np.save(\"./data/Outputs/Mean_Vec.npy\",out['F'])"
   ]
  },
  {
   "cell_type": "code",
   "execution_count": null,
   "metadata": {
    "collapsed": true
   },
   "outputs": [],
   "source": []
  }
 ],
 "metadata": {
  "kernelspec": {
   "display_name": "Python 2",
   "language": "python",
   "name": "python2"
  },
  "language_info": {
   "codemirror_mode": {
    "name": "ipython",
    "version": 2
   },
   "file_extension": ".py",
   "mimetype": "text/x-python",
   "name": "python",
   "nbconvert_exporter": "python",
   "pygments_lexer": "ipython2",
   "version": "2.7.12"
  }
 },
 "nbformat": 4,
 "nbformat_minor": 0
}

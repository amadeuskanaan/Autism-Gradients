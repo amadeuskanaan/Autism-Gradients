{
 "cells": [
  {
   "cell_type": "markdown",
   "metadata": {},
   "source": [
    "Binning Function"
   ]
  },
  {
   "cell_type": "code",
   "execution_count": null,
   "metadata": {
    "collapsed": true
   },
   "outputs": [],
   "source": [
    "import matplotlib.pylab as plt\n",
    "import nilearn\n",
    "import nilearn.plotting\n",
    "import os\n",
    "import numpy as np\n",
    "import nibabel as nib\n",
    "##create path to save the output\n",
    "out_path='./data/Outputs/Bins/'\n",
    "if not os.path.exists(out_path):\n",
    "    os.makedirs(out_path)\n",
    "def rebuild_nii_indv_bins(num,subs,bins):\n",
    "    onlyfiles = [f for f in listdir_nohidden('./data/Outputs/Regs/') if isfile(join('./data/Outputs/Regs/', f))]\n",
    "    thisfile=[onlyfiles[ii] for ii in subs]\n",
    "        \n",
    "    for sub in thisfile:\n",
    "        data = np.load('./data/Outputs/Regs/%s' % sub)\n",
    "        a = data[:,num].copy()\n",
    "        steps=int((1/float(bins))*len(a))\n",
    "        data_argsort=np.argsort(a)[::-1]\n",
    "        nim = nib.load('cc400_roi_atlas.nii')\n",
    "        imdat=nim.get_data().astype('float')\n",
    "        for thisperc in range(bins):            \n",
    "            #print a\n",
    "            #print data_argsort\n",
    "            abin=np.zeros(a.shape)#a.copy()\n",
    "            abin[data_argsort[thisperc*steps:(thisperc+1)*steps+1]]=a[data_argsort[thisperc*steps:(thisperc+1)*steps+1]]            \n",
    "            imdat_new = imdat.copy()\n",
    "            for n, i in enumerate(np.unique(imdat)):\n",
    "                #if i != 0:\n",
    "                #imdat_new[imdat == i] = abin[n-1]# * 10 # scaling factor. Could also try to get float values in nifti...\n",
    "                if i != 0 and i < 392:\n",
    "                    imdat_new[imdat == i] = abin[n-1] # scaling factor. Could also try to get float values in nifti...\n",
    "                elif i >= 392:\n",
    "                    imdat_new[imdat == i] = np.nan\n",
    "            nim_out = nib.Nifti1Image(imdat_new, nim.get_affine(), nim.get_header())\n",
    "            nim_out.set_data_dtype('float32')\n",
    "            out_name=out_path+'Bin'+str(thisperc)+'_'+sub+'.nii'\n",
    "            #print out_name\n",
    "            # to save:\n",
    "            nim_out.to_filename(out_name)\n",
    "            \n",
    "            nilearn.plotting.plot_epi(nim_out, cut_coords=(0,0,0),colorbar=True) "
   ]
  },
  {
   "cell_type": "code",
   "execution_count": null,
   "metadata": {
    "collapsed": true
   },
   "outputs": [],
   "source": [
    "plt.close(\"all\")\n",
    "for i in range(1):\n",
    "    subs=[0,1]\n",
    "    numbins=10\n",
    "    nims = rebuild_nii_indv_bins(i,subs,numbins)\n",
    "    plt.show()"
   ]
  }
 ],
 "metadata": {
  "kernelspec": {
   "display_name": "Python 2",
   "language": "python",
   "name": "python2"
  },
  "language_info": {
   "codemirror_mode": {
    "name": "ipython",
    "version": 2
   },
   "file_extension": ".py",
   "mimetype": "text/x-python",
   "name": "python",
   "nbconvert_exporter": "python",
   "pygments_lexer": "ipython2",
   "version": "2.7.13"
  }
 },
 "nbformat": 4,
 "nbformat_minor": 2
}

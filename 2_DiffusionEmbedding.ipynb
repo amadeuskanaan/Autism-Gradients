{
 "cells": [
  {
   "cell_type": "markdown",
   "metadata": {},
   "source": [
    "## Step 2 - Run the diffusion embedding on selected files\n",
    "\n",
    "#####  written by R.A.I. Bethlehem, D. Margulies and M. Falkiewicz  for the Autism Gradients project at Brainhack Cambridge 2017"
   ]
  },
  {
   "cell_type": "code",
   "execution_count": 11,
   "metadata": {
    "collapsed": false
   },
   "outputs": [],
   "source": [
    "# first import the input list from the csv file\n",
    "import pandas as pd\n",
    "# read in csv\n",
    "df_phen = pd.read_csv('./data/SelectedSubjects.csv')\n",
    "selected = df_phen[['filename_1D']].values.tolist()"
   ]
  },
  {
   "cell_type": "markdown",
   "metadata": {},
   "source": [
    "Then run the embedding"
   ]
  },
  {
   "cell_type": "code",
   "execution_count": 23,
   "metadata": {
    "collapsed": false
   },
   "outputs": [],
   "source": [
    "# run the diffusion embedding\n",
    "import numpy as np \n",
    "from mapalign import embed\n",
    "import os\n",
    "import nibabel as nib\n",
    "from sklearn.metrics import pairwise_distances\n",
    "\n",
    "for i in selected:\n",
    "    # load timeseries\n",
    "    filename = ''.join(i)\n",
    "    #print filename\n",
    "    ts = np.loadtxt('./data/Input/'+filename)\n",
    "    # create correlation matrix\n",
    "    dcon = np.corrcoef(ts.T)\n",
    "    dcon[np.isnan(dcon)] = 0\n",
    "\n",
    "    # Get number of nodes\n",
    "    N = dcon.shape[0]\n",
    "\n",
    "    # threshold\n",
    "    perc = np.array([np.percentile(x, 90) for x in dcon])\n",
    "\n",
    "    for ii in range(dcon.shape[0]):\n",
    "        #print \"Row %d\" % ii\n",
    "        dcon[ii, dcon[ii,:] < perc[ii]] = 0\n",
    "\n",
    "    # If there are any left then set them to zero\n",
    "    dcon[dcon < 0] = 0\n",
    "\n",
    "    # compute the pairwise correctionlation distances\n",
    "    aff = 1 - pairwise_distances(dcon, metric = 'cosine')\n",
    "\n",
    "    # start saving\n",
    "    savename = os.path.basename(filename)\n",
    "    np.save(\"./data/Outputs/Affn/\"+savename+\"_cosine_affinity.npy\", aff)\n",
    "    # get the diffusion maps\n",
    "    emb, res = embed.compute_diffusion_map(aff, alpha = 0.5)\n",
    "    # Save results\n",
    "    np.save(\"./data/Outputs/Embs/\"+savename+\"_embedding_dense_emb.npy\", emb)\n",
    "    np.save(\"./data/Outputs/Embs/\"+savename+\"_embedding_dense_res.npy\", res)\n",
    "\n",
    "    X = res['vectors']\n",
    "    X = (X.T/X[:,0]).T[:,1:]    \n",
    "    \n",
    "    np.save(\"./data/Outputs/Embs/\"+savename+\"_embedding_dense_res_veconly.npy\", X) #store vectors only"
   ]
  },
  {
   "cell_type": "code",
   "execution_count": null,
   "metadata": {
    "collapsed": true
   },
   "outputs": [],
   "source": []
  }
 ],
 "metadata": {
  "kernelspec": {
   "display_name": "Python 2",
   "language": "python",
   "name": "python2"
  },
  "language_info": {
   "codemirror_mode": {
    "name": "ipython",
    "version": 2
   },
   "file_extension": ".py",
   "mimetype": "text/x-python",
   "name": "python",
   "nbconvert_exporter": "python",
   "pygments_lexer": "ipython2",
   "version": "2.7.12"
  }
 },
 "nbformat": 4,
 "nbformat_minor": 0
}

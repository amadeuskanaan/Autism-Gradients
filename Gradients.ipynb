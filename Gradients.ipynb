{
 "cells": [
  {
   "cell_type": "markdown",
   "metadata": {},
   "source": [
    "Created on Mon Dec 01 15:05:56 2016\n",
    "@author: Richard"
   ]
  },
  {
   "cell_type": "markdown",
   "metadata": {},
   "source": [
    "### Required packages:\n",
    "pySTATIS\n",
    "numpy\n",
    "mapalign\n",
    "nibabel\n",
    "sklearn\n",
    "cluster_roi\n",
    "\n",
    "### suggested file struture:\n",
    "main/\n",
    "main/cpac/filt_noglobal/rois_cc400/ > for data files\n",
    "main/Affn/ > for adjacency matrices\n",
    "main/Embs/ > for diffusion embedding files\n",
    "\n",
    "### download ABIDE data:\n",
    "http://preprocessed-connectomes-project.org/abide/download.html\n",
    "python download_abide_preproc.py -d rois_cc400 -p cpac -s filt_noglobal -o data/ -x 'M' -gt 18 -lt 55"
   ]
  },
  {
   "cell_type": "code",
   "execution_count": 17,
   "metadata": {
    "collapsed": false
   },
   "outputs": [],
   "source": [
    "## lets start with some actual script\n",
    "# import useful things\n",
    "import numpy as np\n",
    "import os\n",
    "import nibabel as nib\n",
    "from sklearn.metrics import pairwise_distances\n",
    "\n",
    "# get a list of inputs\n",
    "from os import listdir\n",
    "from os.path import isfile, join\n",
    "\n",
    "# little helper function to return the proper filelist with the full path\n",
    "def listdir_nohidden(path):\n",
    "    for f in os.listdir(path):\n",
    "        if not f.startswith('.'):\n",
    "            yield f\n",
    "\n",
    "def listdir_fullpath(d):\n",
    "    return [os.path.join(d, f) for f in listdir_nohidden(d)]\n",
    "# and create a filelist\n",
    "onlyfiles = listdir_fullpath(\"data/Outputs/cpac/filt_noglobal/rois_cc400\")"
   ]
  },
  {
   "cell_type": "code",
   "execution_count": 10,
   "metadata": {
    "collapsed": false
   },
   "outputs": [
    {
     "name": "stdout",
     "output_type": "stream",
     "text": [
      "178\n"
     ]
    }
   ],
   "source": [
    "# check to see which files contains nodes with missing information\n",
    "missingarray = []\n",
    "for i in onlyfiles:\n",
    "# load timeseries\n",
    "    filename = i\n",
    "    ts_raw = np.loadtxt(filename)\n",
    "\n",
    "# check zero columns\n",
    "    missingn = np.where(~ts_raw.any(axis=0))[0]\n",
    "    missingarray.append(missingn)\n",
    "\n",
    "# select the ones that don't have missing data\n",
    "ids = np.where([len(i) == 0 for i in missingarray])[0]\n",
    "selected = [onlyfiles[i] for i in ids]\n",
    "# could be useful to have one without pathnames later one\n",
    "selected2 = [os.path.basename(onlyfiles[i]) for i in ids]\n",
    "print(len(selected))"
   ]
  },
  {
   "cell_type": "markdown",
   "metadata": {},
   "source": [
    "### run the diffusion embedding"
   ]
  },
  {
   "cell_type": "code",
   "execution_count": 14,
   "metadata": {
    "collapsed": false,
    "scrolled": false
   },
   "outputs": [
    {
     "name": "stdout",
     "output_type": "stream",
     "text": [
      "data/Outputs/cpac/filt_noglobal/rois_cc400/Caltech_0051465_rois_cc400.1D\n",
      "data/Outputs/cpac/filt_noglobal/rois_cc400/Caltech_0051474_rois_cc400.1D\n",
      "data/Outputs/cpac/filt_noglobal/rois_cc400/Caltech_0051476_rois_cc400.1D\n",
      "data/Outputs/cpac/filt_noglobal/rois_cc400/Caltech_0051477_rois_cc400.1D\n",
      "data/Outputs/cpac/filt_noglobal/rois_cc400/Caltech_0051488_rois_cc400.1D\n",
      "data/Outputs/cpac/filt_noglobal/rois_cc400/Caltech_0051492_rois_cc400.1D\n",
      "data/Outputs/cpac/filt_noglobal/rois_cc400/CMU_a_0050649_rois_cc400.1D\n",
      "data/Outputs/cpac/filt_noglobal/rois_cc400/Leuven_1_0050682_rois_cc400.1D\n",
      "data/Outputs/cpac/filt_noglobal/rois_cc400/Leuven_1_0050683_rois_cc400.1D\n",
      "data/Outputs/cpac/filt_noglobal/rois_cc400/Leuven_1_0050685_rois_cc400.1D\n",
      "data/Outputs/cpac/filt_noglobal/rois_cc400/Leuven_1_0050686_rois_cc400.1D\n",
      "data/Outputs/cpac/filt_noglobal/rois_cc400/Leuven_1_0050688_rois_cc400.1D\n",
      "data/Outputs/cpac/filt_noglobal/rois_cc400/Leuven_1_0050689_rois_cc400.1D\n",
      "data/Outputs/cpac/filt_noglobal/rois_cc400/Leuven_1_0050690_rois_cc400.1D\n",
      "data/Outputs/cpac/filt_noglobal/rois_cc400/Leuven_1_0050691_rois_cc400.1D\n",
      "data/Outputs/cpac/filt_noglobal/rois_cc400/Leuven_1_0050692_rois_cc400.1D\n",
      "data/Outputs/cpac/filt_noglobal/rois_cc400/Leuven_1_0050694_rois_cc400.1D\n",
      "data/Outputs/cpac/filt_noglobal/rois_cc400/Leuven_1_0050695_rois_cc400.1D\n",
      "data/Outputs/cpac/filt_noglobal/rois_cc400/Leuven_1_0050696_rois_cc400.1D\n",
      "data/Outputs/cpac/filt_noglobal/rois_cc400/Leuven_1_0050697_rois_cc400.1D\n",
      "data/Outputs/cpac/filt_noglobal/rois_cc400/Leuven_1_0050698_rois_cc400.1D\n",
      "data/Outputs/cpac/filt_noglobal/rois_cc400/Leuven_1_0050699_rois_cc400.1D\n",
      "data/Outputs/cpac/filt_noglobal/rois_cc400/Leuven_1_0050700_rois_cc400.1D\n",
      "data/Outputs/cpac/filt_noglobal/rois_cc400/Leuven_1_0050703_rois_cc400.1D\n",
      "data/Outputs/cpac/filt_noglobal/rois_cc400/Leuven_1_0050704_rois_cc400.1D\n",
      "data/Outputs/cpac/filt_noglobal/rois_cc400/Leuven_1_0050705_rois_cc400.1D\n",
      "data/Outputs/cpac/filt_noglobal/rois_cc400/Leuven_1_0050706_rois_cc400.1D\n",
      "data/Outputs/cpac/filt_noglobal/rois_cc400/Leuven_1_0050707_rois_cc400.1D\n",
      "data/Outputs/cpac/filt_noglobal/rois_cc400/Leuven_1_0050708_rois_cc400.1D\n",
      "data/Outputs/cpac/filt_noglobal/rois_cc400/Leuven_1_0050709_rois_cc400.1D\n",
      "data/Outputs/cpac/filt_noglobal/rois_cc400/Leuven_1_0050710_rois_cc400.1D\n",
      "data/Outputs/cpac/filt_noglobal/rois_cc400/MaxMun_a_0051318_rois_cc400.1D\n",
      "data/Outputs/cpac/filt_noglobal/rois_cc400/MaxMun_a_0051319_rois_cc400.1D\n",
      "data/Outputs/cpac/filt_noglobal/rois_cc400/MaxMun_a_0051362_rois_cc400.1D\n",
      "data/Outputs/cpac/filt_noglobal/rois_cc400/MaxMun_a_0051363_rois_cc400.1D\n",
      "data/Outputs/cpac/filt_noglobal/rois_cc400/MaxMun_a_0051365_rois_cc400.1D\n",
      "data/Outputs/cpac/filt_noglobal/rois_cc400/MaxMun_a_0051369_rois_cc400.1D\n",
      "data/Outputs/cpac/filt_noglobal/rois_cc400/MaxMun_a_0051373_rois_cc400.1D\n",
      "data/Outputs/cpac/filt_noglobal/rois_cc400/MaxMun_a_0051607_rois_cc400.1D\n",
      "data/Outputs/cpac/filt_noglobal/rois_cc400/MaxMun_b_0051323_rois_cc400.1D\n",
      "data/Outputs/cpac/filt_noglobal/rois_cc400/MaxMun_b_0051324_rois_cc400.1D\n",
      "data/Outputs/cpac/filt_noglobal/rois_cc400/MaxMun_b_0051326_rois_cc400.1D\n",
      "data/Outputs/cpac/filt_noglobal/rois_cc400/MaxMun_c_0051328_rois_cc400.1D\n",
      "data/Outputs/cpac/filt_noglobal/rois_cc400/MaxMun_c_0051333_rois_cc400.1D\n",
      "data/Outputs/cpac/filt_noglobal/rois_cc400/MaxMun_c_0051334_rois_cc400.1D\n",
      "data/Outputs/cpac/filt_noglobal/rois_cc400/MaxMun_c_0051335_rois_cc400.1D\n",
      "data/Outputs/cpac/filt_noglobal/rois_cc400/MaxMun_c_0051336_rois_cc400.1D\n",
      "data/Outputs/cpac/filt_noglobal/rois_cc400/MaxMun_c_0051338_rois_cc400.1D\n",
      "data/Outputs/cpac/filt_noglobal/rois_cc400/MaxMun_c_0051339_rois_cc400.1D\n",
      "data/Outputs/cpac/filt_noglobal/rois_cc400/MaxMun_c_0051340_rois_cc400.1D\n",
      "data/Outputs/cpac/filt_noglobal/rois_cc400/MaxMun_c_0051342_rois_cc400.1D\n",
      "data/Outputs/cpac/filt_noglobal/rois_cc400/MaxMun_c_0051343_rois_cc400.1D\n",
      "data/Outputs/cpac/filt_noglobal/rois_cc400/MaxMun_c_0051344_rois_cc400.1D\n",
      "data/Outputs/cpac/filt_noglobal/rois_cc400/MaxMun_c_0051345_rois_cc400.1D\n",
      "data/Outputs/cpac/filt_noglobal/rois_cc400/MaxMun_c_0051346_rois_cc400.1D\n",
      "data/Outputs/cpac/filt_noglobal/rois_cc400/MaxMun_c_0051347_rois_cc400.1D\n",
      "data/Outputs/cpac/filt_noglobal/rois_cc400/MaxMun_d_0051330_rois_cc400.1D\n",
      "data/Outputs/cpac/filt_noglobal/rois_cc400/MaxMun_d_0051331_rois_cc400.1D\n",
      "data/Outputs/cpac/filt_noglobal/rois_cc400/NYU_0051015_rois_cc400.1D\n",
      "data/Outputs/cpac/filt_noglobal/rois_cc400/NYU_0051016_rois_cc400.1D\n",
      "data/Outputs/cpac/filt_noglobal/rois_cc400/NYU_0051019_rois_cc400.1D\n",
      "data/Outputs/cpac/filt_noglobal/rois_cc400/NYU_0051021_rois_cc400.1D\n",
      "data/Outputs/cpac/filt_noglobal/rois_cc400/NYU_0051023_rois_cc400.1D\n",
      "data/Outputs/cpac/filt_noglobal/rois_cc400/NYU_0051024_rois_cc400.1D\n",
      "data/Outputs/cpac/filt_noglobal/rois_cc400/NYU_0051025_rois_cc400.1D\n",
      "data/Outputs/cpac/filt_noglobal/rois_cc400/NYU_0051026_rois_cc400.1D\n",
      "data/Outputs/cpac/filt_noglobal/rois_cc400/NYU_0051027_rois_cc400.1D\n",
      "data/Outputs/cpac/filt_noglobal/rois_cc400/NYU_0051028_rois_cc400.1D\n",
      "data/Outputs/cpac/filt_noglobal/rois_cc400/NYU_0051029_rois_cc400.1D\n",
      "data/Outputs/cpac/filt_noglobal/rois_cc400/NYU_0051066_rois_cc400.1D\n",
      "data/Outputs/cpac/filt_noglobal/rois_cc400/NYU_0051067_rois_cc400.1D\n",
      "data/Outputs/cpac/filt_noglobal/rois_cc400/NYU_0051068_rois_cc400.1D\n",
      "data/Outputs/cpac/filt_noglobal/rois_cc400/NYU_0051112_rois_cc400.1D\n",
      "data/Outputs/cpac/filt_noglobal/rois_cc400/NYU_0051113_rois_cc400.1D\n",
      "data/Outputs/cpac/filt_noglobal/rois_cc400/NYU_0051114_rois_cc400.1D\n",
      "data/Outputs/cpac/filt_noglobal/rois_cc400/NYU_0051116_rois_cc400.1D\n",
      "data/Outputs/cpac/filt_noglobal/rois_cc400/NYU_0051117_rois_cc400.1D\n",
      "data/Outputs/cpac/filt_noglobal/rois_cc400/NYU_0051130_rois_cc400.1D\n",
      "data/Outputs/cpac/filt_noglobal/rois_cc400/NYU_0051131_rois_cc400.1D\n",
      "data/Outputs/cpac/filt_noglobal/rois_cc400/NYU_0051146_rois_cc400.1D\n",
      "data/Outputs/cpac/filt_noglobal/rois_cc400/NYU_0051147_rois_cc400.1D\n",
      "data/Outputs/cpac/filt_noglobal/rois_cc400/NYU_0051148_rois_cc400.1D\n",
      "data/Outputs/cpac/filt_noglobal/rois_cc400/NYU_0051149_rois_cc400.1D\n",
      "data/Outputs/cpac/filt_noglobal/rois_cc400/NYU_0051150_rois_cc400.1D\n",
      "data/Outputs/cpac/filt_noglobal/rois_cc400/NYU_0051151_rois_cc400.1D\n",
      "data/Outputs/cpac/filt_noglobal/rois_cc400/NYU_0051152_rois_cc400.1D\n",
      "data/Outputs/cpac/filt_noglobal/rois_cc400/NYU_0051153_rois_cc400.1D\n",
      "data/Outputs/cpac/filt_noglobal/rois_cc400/NYU_0051154_rois_cc400.1D\n",
      "data/Outputs/cpac/filt_noglobal/rois_cc400/NYU_0051155_rois_cc400.1D\n",
      "data/Outputs/cpac/filt_noglobal/rois_cc400/NYU_0051156_rois_cc400.1D\n",
      "data/Outputs/cpac/filt_noglobal/rois_cc400/Olin_0050107_rois_cc400.1D\n",
      "data/Outputs/cpac/filt_noglobal/rois_cc400/Olin_0050115_rois_cc400.1D\n",
      "data/Outputs/cpac/filt_noglobal/rois_cc400/Olin_0050117_rois_cc400.1D\n",
      "data/Outputs/cpac/filt_noglobal/rois_cc400/Olin_0050121_rois_cc400.1D\n",
      "data/Outputs/cpac/filt_noglobal/rois_cc400/Olin_0050131_rois_cc400.1D\n",
      "data/Outputs/cpac/filt_noglobal/rois_cc400/Olin_0050136_rois_cc400.1D\n",
      "data/Outputs/cpac/filt_noglobal/rois_cc400/Pitt_0050004_rois_cc400.1D\n",
      "data/Outputs/cpac/filt_noglobal/rois_cc400/Pitt_0050009_rois_cc400.1D\n",
      "data/Outputs/cpac/filt_noglobal/rois_cc400/Pitt_0050010_rois_cc400.1D\n",
      "data/Outputs/cpac/filt_noglobal/rois_cc400/Pitt_0050012_rois_cc400.1D\n",
      "data/Outputs/cpac/filt_noglobal/rois_cc400/Pitt_0050020_rois_cc400.1D\n",
      "data/Outputs/cpac/filt_noglobal/rois_cc400/Pitt_0050025_rois_cc400.1D\n",
      "data/Outputs/cpac/filt_noglobal/rois_cc400/Pitt_0050030_rois_cc400.1D\n",
      "data/Outputs/cpac/filt_noglobal/rois_cc400/Pitt_0050037_rois_cc400.1D\n",
      "data/Outputs/cpac/filt_noglobal/rois_cc400/Pitt_0050040_rois_cc400.1D\n",
      "data/Outputs/cpac/filt_noglobal/rois_cc400/Pitt_0050042_rois_cc400.1D\n",
      "data/Outputs/cpac/filt_noglobal/rois_cc400/Pitt_0050046_rois_cc400.1D\n",
      "data/Outputs/cpac/filt_noglobal/rois_cc400/Pitt_0050058_rois_cc400.1D\n",
      "data/Outputs/cpac/filt_noglobal/rois_cc400/Pitt_0050060_rois_cc400.1D\n",
      "data/Outputs/cpac/filt_noglobal/rois_cc400/SBL_0051557_rois_cc400.1D\n",
      "data/Outputs/cpac/filt_noglobal/rois_cc400/SBL_0051559_rois_cc400.1D\n",
      "data/Outputs/cpac/filt_noglobal/rois_cc400/SBL_0051561_rois_cc400.1D\n",
      "data/Outputs/cpac/filt_noglobal/rois_cc400/SBL_0051563_rois_cc400.1D\n",
      "data/Outputs/cpac/filt_noglobal/rois_cc400/SBL_0051574_rois_cc400.1D\n",
      "data/Outputs/cpac/filt_noglobal/rois_cc400/SBL_0051585_rois_cc400.1D\n",
      "data/Outputs/cpac/filt_noglobal/rois_cc400/Trinity_0050232_rois_cc400.1D\n",
      "data/Outputs/cpac/filt_noglobal/rois_cc400/Trinity_0050233_rois_cc400.1D\n",
      "data/Outputs/cpac/filt_noglobal/rois_cc400/Trinity_0050237_rois_cc400.1D\n",
      "data/Outputs/cpac/filt_noglobal/rois_cc400/Trinity_0050245_rois_cc400.1D\n",
      "data/Outputs/cpac/filt_noglobal/rois_cc400/Trinity_0050253_rois_cc400.1D\n",
      "data/Outputs/cpac/filt_noglobal/rois_cc400/Trinity_0050254_rois_cc400.1D\n",
      "data/Outputs/cpac/filt_noglobal/rois_cc400/Trinity_0050260_rois_cc400.1D\n",
      "data/Outputs/cpac/filt_noglobal/rois_cc400/Trinity_0050261_rois_cc400.1D\n",
      "data/Outputs/cpac/filt_noglobal/rois_cc400/Trinity_0050262_rois_cc400.1D\n",
      "data/Outputs/cpac/filt_noglobal/rois_cc400/Trinity_0050263_rois_cc400.1D\n",
      "data/Outputs/cpac/filt_noglobal/rois_cc400/Trinity_0050264_rois_cc400.1D\n",
      "data/Outputs/cpac/filt_noglobal/rois_cc400/Trinity_0050270_rois_cc400.1D\n",
      "data/Outputs/cpac/filt_noglobal/rois_cc400/Trinity_0050271_rois_cc400.1D\n",
      "data/Outputs/cpac/filt_noglobal/rois_cc400/Trinity_0051132_rois_cc400.1D\n",
      "data/Outputs/cpac/filt_noglobal/rois_cc400/Trinity_0051139_rois_cc400.1D\n",
      "data/Outputs/cpac/filt_noglobal/rois_cc400/UM_1_0050320_rois_cc400.1D\n",
      "data/Outputs/cpac/filt_noglobal/rois_cc400/UM_1_0050344_rois_cc400.1D\n",
      "data/Outputs/cpac/filt_noglobal/rois_cc400/UM_1_0050346_rois_cc400.1D\n",
      "data/Outputs/cpac/filt_noglobal/rois_cc400/UM_1_0050349_rois_cc400.1D\n",
      "data/Outputs/cpac/filt_noglobal/rois_cc400/UM_2_0050382_rois_cc400.1D\n",
      "data/Outputs/cpac/filt_noglobal/rois_cc400/UM_2_0050388_rois_cc400.1D\n",
      "data/Outputs/cpac/filt_noglobal/rois_cc400/USM_0050433_rois_cc400.1D\n",
      "data/Outputs/cpac/filt_noglobal/rois_cc400/USM_0050434_rois_cc400.1D\n",
      "data/Outputs/cpac/filt_noglobal/rois_cc400/USM_0050439_rois_cc400.1D\n",
      "data/Outputs/cpac/filt_noglobal/rois_cc400/USM_0050440_rois_cc400.1D\n",
      "data/Outputs/cpac/filt_noglobal/rois_cc400/USM_0050441_rois_cc400.1D\n",
      "data/Outputs/cpac/filt_noglobal/rois_cc400/USM_0050442_rois_cc400.1D\n",
      "data/Outputs/cpac/filt_noglobal/rois_cc400/USM_0050444_rois_cc400.1D\n",
      "data/Outputs/cpac/filt_noglobal/rois_cc400/USM_0050445_rois_cc400.1D\n",
      "data/Outputs/cpac/filt_noglobal/rois_cc400/USM_0050446_rois_cc400.1D\n",
      "data/Outputs/cpac/filt_noglobal/rois_cc400/USM_0050449_rois_cc400.1D\n",
      "data/Outputs/cpac/filt_noglobal/rois_cc400/USM_0050455_rois_cc400.1D\n",
      "data/Outputs/cpac/filt_noglobal/rois_cc400/USM_0050463_rois_cc400.1D\n",
      "data/Outputs/cpac/filt_noglobal/rois_cc400/USM_0050466_rois_cc400.1D\n",
      "data/Outputs/cpac/filt_noglobal/rois_cc400/USM_0050467_rois_cc400.1D\n",
      "data/Outputs/cpac/filt_noglobal/rois_cc400/USM_0050468_rois_cc400.1D\n",
      "data/Outputs/cpac/filt_noglobal/rois_cc400/USM_0050469_rois_cc400.1D\n",
      "data/Outputs/cpac/filt_noglobal/rois_cc400/USM_0050477_rois_cc400.1D\n",
      "data/Outputs/cpac/filt_noglobal/rois_cc400/USM_0050480_rois_cc400.1D\n",
      "data/Outputs/cpac/filt_noglobal/rois_cc400/USM_0050482_rois_cc400.1D\n",
      "data/Outputs/cpac/filt_noglobal/rois_cc400/USM_0050483_rois_cc400.1D\n",
      "data/Outputs/cpac/filt_noglobal/rois_cc400/USM_0050485_rois_cc400.1D\n",
      "data/Outputs/cpac/filt_noglobal/rois_cc400/USM_0050487_rois_cc400.1D\n",
      "data/Outputs/cpac/filt_noglobal/rois_cc400/USM_0050488_rois_cc400.1D\n",
      "data/Outputs/cpac/filt_noglobal/rois_cc400/USM_0050490_rois_cc400.1D\n",
      "data/Outputs/cpac/filt_noglobal/rois_cc400/USM_0050491_rois_cc400.1D\n",
      "data/Outputs/cpac/filt_noglobal/rois_cc400/USM_0050492_rois_cc400.1D\n",
      "data/Outputs/cpac/filt_noglobal/rois_cc400/USM_0050493_rois_cc400.1D\n",
      "data/Outputs/cpac/filt_noglobal/rois_cc400/USM_0050496_rois_cc400.1D\n",
      "data/Outputs/cpac/filt_noglobal/rois_cc400/USM_0050497_rois_cc400.1D\n",
      "data/Outputs/cpac/filt_noglobal/rois_cc400/USM_0050498_rois_cc400.1D\n",
      "data/Outputs/cpac/filt_noglobal/rois_cc400/USM_0050499_rois_cc400.1D\n",
      "data/Outputs/cpac/filt_noglobal/rois_cc400/USM_0050502_rois_cc400.1D\n",
      "data/Outputs/cpac/filt_noglobal/rois_cc400/USM_0050503_rois_cc400.1D\n",
      "data/Outputs/cpac/filt_noglobal/rois_cc400/USM_0050505_rois_cc400.1D\n",
      "data/Outputs/cpac/filt_noglobal/rois_cc400/USM_0050507_rois_cc400.1D\n",
      "data/Outputs/cpac/filt_noglobal/rois_cc400/USM_0050514_rois_cc400.1D\n",
      "data/Outputs/cpac/filt_noglobal/rois_cc400/USM_0050518_rois_cc400.1D\n",
      "data/Outputs/cpac/filt_noglobal/rois_cc400/USM_0050521_rois_cc400.1D\n",
      "data/Outputs/cpac/filt_noglobal/rois_cc400/USM_0050525_rois_cc400.1D\n",
      "data/Outputs/cpac/filt_noglobal/rois_cc400/USM_0050526_rois_cc400.1D\n",
      "data/Outputs/cpac/filt_noglobal/rois_cc400/USM_0050527_rois_cc400.1D\n",
      "data/Outputs/cpac/filt_noglobal/rois_cc400/USM_0050530_rois_cc400.1D\n"
     ]
    }
   ],
   "source": [
    "# run the diffusion embedding\n",
    "from mapalign import embed\n",
    "\n",
    "for i in selected:\n",
    "    # load timeseries\n",
    "    print i\n",
    "    filename = i\n",
    "    ts = np.loadtxt(filename)\n",
    "    # create correlation matrix\n",
    "    dcon = np.corrcoef(ts.T)\n",
    "    dcon[np.isnan(dcon)] = 0\n",
    "\n",
    "    # Get number of nodes\n",
    "    N = dcon.shape[0]\n",
    "\n",
    "    # threshold\n",
    "    perc = np.array([np.percentile(x, 90) for x in dcon])\n",
    "\n",
    "    for ii in range(dcon.shape[0]):\n",
    "        #print \"Row %d\" % ii\n",
    "        dcon[ii, dcon[ii,:] < perc[ii]] = 0\n",
    "\n",
    "    # If there are any left then set them to zero\n",
    "    dcon[dcon < 0] = 0\n",
    "\n",
    "    # compute the pairwise correctionlation distances\n",
    "    aff = 1 - pairwise_distances(dcon, metric = 'cosine')\n",
    "\n",
    "    # start saving\n",
    "    savename = os.path.basename(filename)\n",
    "    np.save(\"./data/Outputs/Affn/\"+savename+\"_cosine_affinity.npy\", aff)\n",
    "    # get the diffusion maps\n",
    "    emb, res = embed.compute_diffusion_map(aff, alpha = 0.5)\n",
    "    # Save results\n",
    "    np.save(\"./data/Outputs/Embs/\"+savename+\"_embedding_dense_emb.npy\", emb)\n",
    "    np.save(\"./data/Outputs/Embs/\"+savename+\"_embedding_dense_res.npy\", res)\n",
    "\n",
    "    X = res['vectors']\n",
    "    X = (X.T/X[:,0]).T[:,1:]    \n",
    "    \n",
    "    np.save(\"./data/Outputs/Embs/\"+savename+\"_embedding_dense_res_veconly.npy\", X) #store vectors only"
   ]
  },
  {
   "cell_type": "markdown",
   "metadata": {},
   "source": [
    "Run Statis to back-project the grouped embeddings"
   ]
  },
  {
   "cell_type": "code",
   "execution_count": 17,
   "metadata": {
    "collapsed": false
   },
   "outputs": [
    {
     "name": "stdout",
     "output_type": "stream",
     "text": [
      "Normalizing tables...\n",
      "Not performing any manipulations on input matrices\n",
      "Stacking matrices horizontally...\n",
      "Getting masses for rows and weights for columns...\n",
      "Computing Z...\n",
      "Computing C...\n",
      "Decomposing similarity matrix...\n",
      "Performing GSVD on the horizontally concatenated matrix...\n",
      "Calculating contributions of rows, columns and tables...\n",
      "File already exists for subject 0\n",
      "File already exists for subject 1\n",
      "File already exists for subject 2\n",
      "File already exists for subject 3\n",
      "File already exists for subject 4\n",
      "File already exists for subject 5\n",
      "File already exists for subject 6\n",
      "File already exists for subject 7\n",
      "File already exists for subject 8\n",
      "File already exists for subject 9\n",
      "File already exists for subject 10\n",
      "File already exists for subject 11\n",
      "File already exists for subject 12\n",
      "File already exists for subject 13\n",
      "File already exists for subject 14\n",
      "File already exists for subject 15\n",
      "File already exists for subject 16\n",
      "File already exists for subject 17\n",
      "File already exists for subject 18\n",
      "File already exists for subject 19\n",
      "File already exists for subject 20\n",
      "File already exists for subject 21\n",
      "File already exists for subject 22\n",
      "File already exists for subject 23\n",
      "File already exists for subject 24\n",
      "File already exists for subject 25\n",
      "File already exists for subject 26\n",
      "File already exists for subject 27\n",
      "File already exists for subject 28\n",
      "File already exists for subject 29\n",
      "File already exists for subject 30\n",
      "File already exists for subject 31\n",
      "File already exists for subject 32\n",
      "File already exists for subject 33\n",
      "File already exists for subject 34\n",
      "File already exists for subject 35\n",
      "File already exists for subject 36\n",
      "File already exists for subject 37\n",
      "File already exists for subject 38\n",
      "File already exists for subject 39\n",
      "File already exists for subject 40\n",
      "File already exists for subject 41\n",
      "File already exists for subject 42\n",
      "File already exists for subject 43\n",
      "File already exists for subject 44\n",
      "File already exists for subject 45\n",
      "File already exists for subject 46\n",
      "File already exists for subject 47\n",
      "File already exists for subject 48\n",
      "File already exists for subject 49\n",
      "File already exists for subject 50\n",
      "File already exists for subject 51\n",
      "File already exists for subject 52\n",
      "File already exists for subject 53\n",
      "File already exists for subject 54\n",
      "File already exists for subject 55\n",
      "File already exists for subject 56\n",
      "File already exists for subject 57\n",
      "File already exists for subject 58\n",
      "File already exists for subject 59\n",
      "File already exists for subject 60\n",
      "File already exists for subject 61\n",
      "File already exists for subject 62\n",
      "File already exists for subject 63\n",
      "File already exists for subject 64\n",
      "File already exists for subject 65\n",
      "File already exists for subject 66\n",
      "File already exists for subject 67\n",
      "File already exists for subject 68\n",
      "File already exists for subject 69\n",
      "File already exists for subject 70\n",
      "File already exists for subject 71\n",
      "File already exists for subject 72\n",
      "File already exists for subject 73\n",
      "File already exists for subject 74\n",
      "File already exists for subject 75\n",
      "File already exists for subject 76\n",
      "File already exists for subject 77\n",
      "File already exists for subject 78\n",
      "File already exists for subject 79\n",
      "File already exists for subject 80\n",
      "File already exists for subject 81\n",
      "File already exists for subject 82\n",
      "File already exists for subject 83\n",
      "File already exists for subject 84\n",
      "File already exists for subject 85\n",
      "File already exists for subject 86\n",
      "File already exists for subject 87\n",
      "File already exists for subject 88\n",
      "File already exists for subject 89\n",
      "File already exists for subject 90\n",
      "File already exists for subject 91\n",
      "File already exists for subject 92\n",
      "File already exists for subject 93\n",
      "File already exists for subject 94\n",
      "File already exists for subject 95\n",
      "File already exists for subject 96\n",
      "File already exists for subject 97\n",
      "File already exists for subject 98\n",
      "File already exists for subject 99\n",
      "File already exists for subject 100\n",
      "File already exists for subject 101\n",
      "File already exists for subject 102\n",
      "File already exists for subject 103\n",
      "File already exists for subject 104\n",
      "File already exists for subject 105\n",
      "File already exists for subject 106\n",
      "File already exists for subject 107\n",
      "File already exists for subject 108\n",
      "File already exists for subject 109\n",
      "File already exists for subject 110\n",
      "File already exists for subject 111\n",
      "File already exists for subject 112\n",
      "File already exists for subject 113\n",
      "File already exists for subject 114\n",
      "File already exists for subject 115\n",
      "File already exists for subject 116\n",
      "File already exists for subject 117\n",
      "File already exists for subject 118\n",
      "File already exists for subject 119\n",
      "File already exists for subject 120\n",
      "File already exists for subject 121\n",
      "File already exists for subject 122\n",
      "File already exists for subject 123\n",
      "File already exists for subject 124\n",
      "File already exists for subject 125\n",
      "File already exists for subject 126\n",
      "File already exists for subject 127\n",
      "File already exists for subject 128\n",
      "File already exists for subject 129\n",
      "File already exists for subject 130\n",
      "File already exists for subject 131\n",
      "File already exists for subject 132\n",
      "File already exists for subject 133\n",
      "File already exists for subject 134\n",
      "File already exists for subject 135\n",
      "File already exists for subject 136\n",
      "File already exists for subject 137\n",
      "File already exists for subject 138\n",
      "File already exists for subject 139\n",
      "File already exists for subject 140\n",
      "File already exists for subject 141\n",
      "File already exists for subject 142\n",
      "File already exists for subject 143\n",
      "File already exists for subject 144\n",
      "File already exists for subject 145\n",
      "File already exists for subject 146\n",
      "File already exists for subject 147\n",
      "File already exists for subject 148\n",
      "File already exists for subject 149\n",
      "File already exists for subject 150\n",
      "File already exists for subject 151\n",
      "File already exists for subject 152\n",
      "File already exists for subject 153\n",
      "File already exists for subject 154\n",
      "File already exists for subject 155\n",
      "File already exists for subject 156\n",
      "File already exists for subject 157\n",
      "File already exists for subject 158\n",
      "File already exists for subject 159\n",
      "File already exists for subject 160\n",
      "File already exists for subject 161\n",
      "File already exists for subject 162\n",
      "File already exists for subject 163\n",
      "File already exists for subject 164\n",
      "File already exists for subject 165\n",
      "File already exists for subject 166\n",
      "File already exists for subject 167\n",
      "File already exists for subject 168\n",
      "File already exists for subject 169\n",
      "File already exists for subject 170\n",
      "File already exists for subject 171\n",
      "File already exists for subject 172\n",
      "File already exists for subject 173\n",
      "File already exists for subject 174\n",
      "File already exists for subject 175\n",
      "File already exists for subject 176\n",
      "File already exists for subject 177\n"
     ]
    }
   ],
   "source": [
    "from pySTATIS import statis\n",
    "\n",
    "#load vectors\n",
    "names = list(xrange(392))\n",
    "X = [np.load(\"./data/Outputs/Embs/\"+ os.path.basename(filename)+\"_embedding_dense_res_veconly.npy\") for filename in selected2]\n",
    "out = statis.statis(X, names, fname='statis_results.npy')\n",
    "statis.project_back(X, out['Q'], path = \"./data/Outputs/Regs/\",fnames = selected2)\n",
    "np.save(\"Mean_Vec.npy\",out['F'])"
   ]
  },
  {
   "cell_type": "code",
   "execution_count": null,
   "metadata": {
    "collapsed": true
   },
   "outputs": [],
   "source": [
    "# saving everything in one dump\n",
    "import pickle\n",
    "with open('output.pickle' ,'w') as f:\n",
    "    pickle.dump([selected, out],f)"
   ]
  },
  {
   "cell_type": "markdown",
   "metadata": {},
   "source": [
    "#### plotting \n",
    "plot to surface for inspection\n",
    "this cell in only necessary for plotting below"
   ]
  },
  {
   "cell_type": "code",
   "execution_count": 11,
   "metadata": {
    "collapsed": true
   },
   "outputs": [],
   "source": [
    "import matplotlib.pylab as plt\n",
    "import nilearn\n",
    "import nilearn.plotting\n",
    "\n",
    "import numpy as np\n",
    "import nibabel as nib\n",
    "\n",
    "def rebuild_nii(num):\n",
    "\n",
    "    data = np.load('Mean_Vec.npy')\n",
    "    a = data[:,num].copy()\n",
    "    nim = nib.load('cc400_roi_atlas.nii')\n",
    "    imdat=nim.get_data()\n",
    "    imdat_new = imdat.copy()\n",
    "\n",
    "    for n, i in enumerate(np.unique(imdat)):\n",
    "        if i != 0:\n",
    "            imdat_new[imdat == i] = a[n-1] * 100000 # scaling factor. Could also try to get float values in nifti...\n",
    "\n",
    "    nim_out = nib.Nifti1Image(imdat_new, nim.get_affine(), nim.get_header())\n",
    "    nim_out.set_data_dtype('float32')\n",
    "    # to save:\n",
    "    nim_out.to_filename('Gradient_'+ str(num) +'_res.nii')\n",
    "\n",
    "    nilearn.plotting.plot_epi(nim_out)\n",
    "    return(nim_out)"
   ]
  },
  {
   "cell_type": "code",
   "execution_count": 12,
   "metadata": {
    "collapsed": false
   },
   "outputs": [
    {
     "data": {
      "image/png": "[encoded data removed]",
      "text/plain": [
       "<matplotlib.figure.Figure at 0x10bfc1050>"
      ]
     },
     "metadata": {},
     "output_type": "display_data"
    },
    {
     "data": {
      "image/png": "[encoded data removed]",
      "text/plain": [
       "<matplotlib.figure.Figure at 0x10ce6aa90>"
      ]
     },
     "metadata": {},
     "output_type": "display_data"
    },
    {
     "data": {
      "image/png": "[encoded data removed]",
      "text/plain": [
       "<matplotlib.figure.Figure at 0x1105e7410>"
      ]
     },
     "metadata": {},
     "output_type": "display_data"
    },
    {
     "data": {
      "image/png": "[encoded data removed]",
      "text/plain": [
       "<matplotlib.figure.Figure at 0x110582790>"
      ]
     },
     "metadata": {},
     "output_type": "display_data"
    },
    {
     "data": {
      "image/png": "[encoded data removed]",
      "text/plain": [
       "<matplotlib.figure.Figure at 0x110721490>"
      ]
     },
     "metadata": {},
     "output_type": "display_data"
    },
    {
     "data": {
      "image/png": "[encoded data removed]",
      "text/plain": [
       "<matplotlib.figure.Figure at 0x110cc7e90>"
      ]
     },
     "metadata": {},
     "output_type": "display_data"
    },
    {
     "data": {
      "image/png": "[encoded data removed]",
      "text/plain": [
       "<matplotlib.figure.Figure at 0x1111704d0>"
      ]
     },
     "metadata": {},
     "output_type": "display_data"
    },
    {
     "data": {
      "image/png": "[encoded data removed]",
      "text/plain": [
       "<matplotlib.figure.Figure at 0x1113be2d0>"
      ]
     },
     "metadata": {},
     "output_type": "display_data"
    },
    {
     "data": {
      "image/png": "[encoded data removed]",
      "text/plain": [
       "<matplotlib.figure.Figure at 0x1114db350>"
      ]
     },
     "metadata": {},
     "output_type": "display_data"
    },
    {
     "data": {
      "image/png": "[encoded data removed]",
      "text/plain": [
       "<matplotlib.figure.Figure at 0x11218e190>"
      ]
     },
     "metadata": {},
     "output_type": "display_data"
    }
   ],
   "source": [
    "for i in range(10):\n",
    "    nims = rebuild_nii(i)"
   ]
  },
  {
   "cell_type": "markdown",
   "metadata": {
    "collapsed": true
   },
   "source": [
    "Output everything to an excel file"
   ]
  },
  {
   "cell_type": "code",
   "execution_count": 14,
   "metadata": {
    "collapsed": true
   },
   "outputs": [],
   "source": [
    "import pandas as pd\n",
    "# read in csv\n",
    "df_phen = pd.read_csv('Phenotypic_V1_0b_preprocessed1.csv')\n",
    "# add a column that matches the filename\n",
    "for i in df_phen:\n",
    "    df_phen['filename'] = join(df_phen['FILE_ID']+\"_rois_cc400.1D\")\n",
    "    df_phen['filenamelpy'] = join(df_phen['FILE_ID']+\"_rois_cc400.1D.npy\")\n",
    "\n",
    "df_phen['selec'] = np.where(df_phen['filename'].isin((selected2)), 1, 0)"
   ]
  },
  {
   "cell_type": "markdown",
   "metadata": {},
   "source": [
    "Double checking files"
   ]
  },
  {
   "cell_type": "code",
   "execution_count": 20,
   "metadata": {
    "collapsed": false
   },
   "outputs": [
    {
     "ename": "ValueError",
     "evalue": "operands could not be broadcast together with shapes (146,392) (236,392) ",
     "output_type": "error",
     "traceback": [
      "\u001b[0;31m---------------------------------------------------------------------------\u001b[0m",
      "\u001b[0;31mValueError\u001b[0m                                Traceback (most recent call last)",
      "\u001b[0;32m<ipython-input-20-4e3ebb3012c4>\u001b[0m in \u001b[0;36m<module>\u001b[0;34m()\u001b[0m\n\u001b[1;32m     11\u001b[0m \u001b[0;31m# all subjects in array\u001b[0m\u001b[0;34m\u001b[0m\u001b[0;34m\u001b[0m\u001b[0m\n\u001b[1;32m     12\u001b[0m \u001b[0ma\u001b[0m \u001b[0;34m=\u001b[0m \u001b[0mnp\u001b[0m\u001b[0;34m.\u001b[0m\u001b[0marray\u001b[0m\u001b[0;34m(\u001b[0m\u001b[0ma\u001b[0m\u001b[0;34m)\u001b[0m\u001b[0;34m\u001b[0m\u001b[0m\n\u001b[0;32m---> 13\u001b[0;31m \u001b[0mmean_vec\u001b[0m \u001b[0;34m=\u001b[0m \u001b[0mnp\u001b[0m\u001b[0;34m.\u001b[0m\u001b[0mmean\u001b[0m\u001b[0;34m(\u001b[0m\u001b[0mnp\u001b[0m\u001b[0;34m.\u001b[0m\u001b[0marray\u001b[0m\u001b[0;34m(\u001b[0m\u001b[0ma\u001b[0m\u001b[0;34m)\u001b[0m\u001b[0;34m,\u001b[0m \u001b[0maxis\u001b[0m \u001b[0;34m=\u001b[0m \u001b[0;36m0\u001b[0m\u001b[0;34m)\u001b[0m\u001b[0;34m\u001b[0m\u001b[0m\n\u001b[0m",
      "\u001b[0;32m//anaconda/lib/python2.7/site-packages/numpy/core/fromnumeric.pyc\u001b[0m in \u001b[0;36mmean\u001b[0;34m(a, axis, dtype, out, keepdims)\u001b[0m\n\u001b[1;32m   2876\u001b[0m \u001b[0;34m\u001b[0m\u001b[0m\n\u001b[1;32m   2877\u001b[0m     return _methods._mean(a, axis=axis, dtype=dtype,\n\u001b[0;32m-> 2878\u001b[0;31m                           out=out, keepdims=keepdims)\n\u001b[0m\u001b[1;32m   2879\u001b[0m \u001b[0;34m\u001b[0m\u001b[0m\n\u001b[1;32m   2880\u001b[0m \u001b[0;34m\u001b[0m\u001b[0m\n",
      "\u001b[0;32m//anaconda/lib/python2.7/site-packages/numpy/core/_methods.pyc\u001b[0m in \u001b[0;36m_mean\u001b[0;34m(a, axis, dtype, out, keepdims)\u001b[0m\n\u001b[1;32m     63\u001b[0m         \u001b[0mdtype\u001b[0m \u001b[0;34m=\u001b[0m \u001b[0mmu\u001b[0m\u001b[0;34m.\u001b[0m\u001b[0mdtype\u001b[0m\u001b[0;34m(\u001b[0m\u001b[0;34m'f8'\u001b[0m\u001b[0;34m)\u001b[0m\u001b[0;34m\u001b[0m\u001b[0m\n\u001b[1;32m     64\u001b[0m \u001b[0;34m\u001b[0m\u001b[0m\n\u001b[0;32m---> 65\u001b[0;31m     \u001b[0mret\u001b[0m \u001b[0;34m=\u001b[0m \u001b[0mumr_sum\u001b[0m\u001b[0;34m(\u001b[0m\u001b[0marr\u001b[0m\u001b[0;34m,\u001b[0m \u001b[0maxis\u001b[0m\u001b[0;34m,\u001b[0m \u001b[0mdtype\u001b[0m\u001b[0;34m,\u001b[0m \u001b[0mout\u001b[0m\u001b[0;34m,\u001b[0m \u001b[0mkeepdims\u001b[0m\u001b[0;34m)\u001b[0m\u001b[0;34m\u001b[0m\u001b[0m\n\u001b[0m\u001b[1;32m     66\u001b[0m     \u001b[0;32mif\u001b[0m \u001b[0misinstance\u001b[0m\u001b[0;34m(\u001b[0m\u001b[0mret\u001b[0m\u001b[0;34m,\u001b[0m \u001b[0mmu\u001b[0m\u001b[0;34m.\u001b[0m\u001b[0mndarray\u001b[0m\u001b[0;34m)\u001b[0m\u001b[0;34m:\u001b[0m\u001b[0;34m\u001b[0m\u001b[0m\n\u001b[1;32m     67\u001b[0m         ret = um.true_divide(\n",
      "\u001b[0;31mValueError\u001b[0m: operands could not be broadcast together with shapes (146,392) (236,392) "
     ]
    }
   ],
   "source": [
    "from os import listdir\n",
    "from os.path import isfile, join\n",
    "\n",
    "a = []\n",
    "for i in onlyfiles:\n",
    "    b = np.loadtxt(i)\n",
    "    # normalize:\n",
    "    c = (b - np.mean(b)) / np.std(b)\n",
    "    a.append(c)\n",
    "\n",
    "# all subjects in array\n",
    "a = np.array(a)\n",
    "mean_vec = np.mean(np.array(a), axis = 0)"
   ]
  },
  {
   "cell_type": "markdown",
   "metadata": {},
   "source": [
    "Compare the slopes across subjects"
   ]
  },
  {
   "cell_type": "code",
   "execution_count": null,
   "metadata": {
    "collapsed": true
   },
   "outputs": [],
   "source": [
    "from scipy import stats\n",
    "grdnt_slope = []\n",
    "for i in selected2:\n",
    "    # load gradients\n",
    "    print i\n",
    "    filename = i\n",
    "    grdnt = np.load(\"./data/Outputs/Regs/\" + filename + \".npy\")\n",
    "    # do we need a specific ordering of the nodes??\n",
    "    y = list(xrange(392))\n",
    "    temp = []\n",
    "    for ii in range(10):\n",
    "        x = sorted(grdnt[:,ii]) # just sort in ascending order?\n",
    "        slope, intercept, r_value, p_value, std_err = stats.linregress(x,y)\n",
    "        temp.append(slope)\n",
    "        \n",
    "    grdnt_slope.append(temp)\n",
    "grdnt_slope = np.array(grdnt_slope)\n",
    "# make it into a dataframe\n",
    "data_grdnt = pd.DataFrame(grdnt_slope)\n",
    "data_grdnt['file'] = selected2"
   ]
  },
  {
   "cell_type": "markdown",
   "metadata": {},
   "source": [
    "And write them to an excel file"
   ]
  },
  {
   "cell_type": "code",
   "execution_count": null,
   "metadata": {
    "collapsed": true
   },
   "outputs": [],
   "source": [
    "data = df_phen.loc[df_phen[\"selec\"] == 1]\n",
    "data['filenamelow'] = data['filename'].str.lower()\n",
    "data = data.sort(['filenamelow'])\n",
    "\n",
    "output = data.merge(data_grdnt, left_on='filename',right_on='file',how='outer')\n",
    "output.to_csv('Combined.csv', sep='\\t')"
   ]
  },
  {
   "cell_type": "markdown",
   "metadata": {},
   "source": [
    "Some quality control"
   ]
  },
  {
   "cell_type": "code",
   "execution_count": 27,
   "metadata": {
    "collapsed": true
   },
   "outputs": [],
   "source": [
    "%matplotlib inline\n",
    "# this cell in only necessary for plotting below\n",
    "import matplotlib.pylab as plt \n",
    "import nilearn \n",
    "import nilearn.plotting \n",
    "\n",
    "import numpy as np\n",
    "import nibabel as nib\n",
    "from os import listdir\n",
    "from os.path import isfile, join\n",
    "\n",
    "def rebuild_nii(num):\n",
    "    \n",
    "    data = np.load('Mean_Vec.npy')\n",
    "    a = data[:,num].copy()\n",
    "    nim = nib.load('cc400_roi_atlas.nii')\n",
    "    imdat=nim.get_data()\n",
    "    imdat_new = imdat.copy()\n",
    "\n",
    "    for n, i in enumerate(np.unique(imdat)):\n",
    "        if i != 0:\n",
    "            imdat_new[imdat == i] = a[n-1] * 100000 # scaling factor. Could also try to get float values in nifti...\n",
    "\n",
    "    nim_out = nib.Nifti1Image(imdat_new, nim.get_affine(), nim.get_header())\n",
    "    nim_out.set_data_dtype('float32')\n",
    "    # to save:\n",
    "    # nim_out.to_filename('res.nii')\n",
    "\n",
    "    nilearn.plotting.plot_epi(nim_out)\n",
    "\n",
    "def rebuild_nii_individ(num):\n",
    "    \n",
    "    onlyfiles = [f for f in listdir_nohidden('./data/Outputs/Regs/') if isfile(join('./data/Outputs/Regs/', f))]\n",
    "\n",
    "    for sub in onlyfiles:\n",
    "\n",
    "        data = np.load('./data/Outputs/Regs/%s' % sub)\n",
    "        a = data[:,num].copy()\n",
    "        nim = nib.load('cc400_roi_atlas.nii')\n",
    "        imdat=nim.get_data()\n",
    "        imdat_new = imdat.copy()\n",
    "\n",
    "        for n, i in enumerate(np.unique(imdat)):\n",
    "            if i != 0:\n",
    "                imdat_new[imdat == i] = a[n-1] * 10 # scaling factor. Could also try to get float values in nifti...\n",
    "\n",
    "        nim_out = nib.Nifti1Image(imdat_new, nim.get_affine(), nim.get_header())\n",
    "        nim_out.set_data_dtype('float32')\n",
    "        # to save:\n",
    "        # nim_out.to_filename('res.nii')\n",
    "        nilearn.plotting.plot_epi(nim_out, cut_coords=(0,0,0))"
   ]
  },
  {
   "cell_type": "markdown",
   "metadata": {},
   "source": [
    "Check all individual images"
   ]
  },
  {
   "cell_type": "code",
   "execution_count": null,
   "metadata": {
    "collapsed": false,
    "scrolled": true
   },
   "outputs": [],
   "source": [
    "rebuild_nii_individ(0)"
   ]
  },
  {
   "cell_type": "code",
   "execution_count": null,
   "metadata": {
    "collapsed": true
   },
   "outputs": [],
   "source": []
  }
 ],
 "metadata": {
  "kernelspec": {
   "display_name": "Python 2",
   "language": "python",
   "name": "python2"
  },
  "language_info": {
   "codemirror_mode": {
    "name": "ipython",
    "version": 2
   },
   "file_extension": ".py",
   "mimetype": "text/x-python",
   "name": "python",
   "nbconvert_exporter": "python",
   "pygments_lexer": "ipython2",
   "version": "2.7.12"
  }
 },
 "nbformat": 4,
 "nbformat_minor": 0
}

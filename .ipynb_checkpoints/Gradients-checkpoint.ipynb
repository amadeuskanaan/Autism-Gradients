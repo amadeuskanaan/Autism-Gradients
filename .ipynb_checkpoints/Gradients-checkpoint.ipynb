{
 "cells": [
  {
   "cell_type": "markdown",
   "metadata": {
    "deletable": true,
    "editable": true
   },
   "source": [
    "Created on Mon Dec 01 15:05:56 2016\n",
    "@author: Richard"
   ]
  },
  {
   "cell_type": "markdown",
   "metadata": {
    "deletable": true,
    "editable": true
   },
   "source": [
    "##### Required packages:\n",
    "* pySTATIS\n",
    "* numpy\n",
    "* mapalign\n",
    "* nibabel\n",
    "* sklearn\n",
    "* cluster_roi\n",
    "\n",
    "##### suggested file struture:\n",
    "* main/\n",
    "* main/cpac/filt_noglobal/rois_cc400/ > for data files\n",
    "* main/Affn/ > for adjacency matrices\n",
    "* main/Embs/ > for diffusion embedding files\n",
    "\n",
    "##### download ABIDE data:\n",
    "http://preprocessed-connectomes-project.org/abide/download.html\n",
    "\n",
    "python download_abide_preproc.py -d rois_cc400 -p cpac -s filt_noglobal -o data/ -x 'M' -gt 18 -lt 55"
   ]
  },
  {
   "cell_type": "code",
   "execution_count": 1,
   "metadata": {
    "collapsed": false,
    "deletable": true,
    "editable": true
   },
   "outputs": [],
   "source": [
    "## lets start with some actual script\n",
    "# import useful things\n",
    "import numpy as np\n",
    "import os\n",
    "import nibabel as nib\n",
    "from sklearn.metrics import pairwise_distances\n",
    "\n",
    "# get a list of inputs\n",
    "from os import listdir\n",
    "from os.path import isfile, join\n",
    "import os.path\n",
    "\n",
    "# little helper function to return the proper filelist with the full path\n",
    "def listdir_nohidden(path):\n",
    "    for f in os.listdir(path):\n",
    "        if not f.startswith('.'):\n",
    "            yield f\n",
    "\n",
    "def listdir_fullpath(d):\n",
    "    return [os.path.join(d, f) for f in listdir_nohidden(d)]\n",
    "# and create a filelist\n",
    "onlyfiles = listdir_fullpath(\"data/Outputs/cpac/filt_noglobal/rois_cc400\")"
   ]
  },
  {
   "cell_type": "markdown",
   "metadata": {
    "deletable": true,
    "editable": true
   },
   "source": [
    "Check all files to see if any have missing nodal information and create a selection list based on the ones that are 100% complete."
   ]
  },
  {
   "cell_type": "code",
   "execution_count": 2,
   "metadata": {
    "collapsed": false,
    "deletable": true,
    "editable": true
   },
   "outputs": [
    {
     "name": "stdout",
     "output_type": "stream",
     "text": [
      "178\n"
     ]
    }
   ],
   "source": [
    "# check to see which files contains nodes with missing information\n",
    "missingarray = []\n",
    "for i in onlyfiles:\n",
    "# load timeseries\n",
    "    filename = i\n",
    "    ts_raw = np.loadtxt(filename)\n",
    "\n",
    "# check zero columns\n",
    "    missingn = np.where(~ts_raw.any(axis=0))[0]\n",
    "    missingarray.append(missingn)\n",
    "\n",
    "# select the ones that don't have missing data\n",
    "ids = np.where([len(i) == 0 for i in missingarray])[0]\n",
    "selected = [onlyfiles[i] for i in ids]\n",
    "# could be useful to have one without pathnames later one\n",
    "selected2 = [os.path.basename(onlyfiles[i]) for i in ids]\n",
    "print(len(selected))"
   ]
  },
  {
   "cell_type": "markdown",
   "metadata": {
    "deletable": true,
    "editable": true
   },
   "source": [
    "### run the diffusion embedding"
   ]
  },
  {
   "cell_type": "code",
   "execution_count": 72,
   "metadata": {
    "collapsed": false,
    "deletable": true,
    "editable": true,
    "scrolled": false
   },
   "outputs": [],
   "source": [
    "# run the diffusion embedding\n",
    "from mapalign import embed\n",
    "\n",
    "for i in selected:\n",
    "    # load timeseries\n",
    "    #print i\n",
    "    filename = i\n",
    "    ts = np.loadtxt(filename)\n",
    "    # create correlation matrix\n",
    "    dcon = np.corrcoef(ts.T)\n",
    "    dcon[np.isnan(dcon)] = 0\n",
    "\n",
    "    # Get number of nodes\n",
    "    N = dcon.shape[0]\n",
    "\n",
    "    # threshold\n",
    "    perc = np.array([np.percentile(x, 90) for x in dcon])\n",
    "\n",
    "    for ii in range(dcon.shape[0]):\n",
    "        #print \"Row %d\" % ii\n",
    "        dcon[ii, dcon[ii,:] < perc[ii]] = 0\n",
    "\n",
    "    # If there are any left then set them to zero\n",
    "    dcon[dcon < 0] = 0\n",
    "\n",
    "    # compute the pairwise correctionlation distances\n",
    "    aff = 1 - pairwise_distances(dcon, metric = 'cosine')\n",
    "\n",
    "    # start saving\n",
    "    savename = os.path.basename(filename)\n",
    "    np.save(\"./data/Outputs/Affn/\"+savename+\"_cosine_affinity.npy\", aff)\n",
    "    # get the diffusion maps\n",
    "    emb, res = embed.compute_diffusion_map(aff, alpha = 0.5)\n",
    "    # Save results\n",
    "    np.save(\"./data/Outputs/Embs/\"+savename+\"_embedding_dense_emb.npy\", emb)\n",
    "    np.save(\"./data/Outputs/Embs/\"+savename+\"_embedding_dense_res.npy\", res)\n",
    "\n",
    "    X = res['vectors']\n",
    "    X = (X.T/X[:,0]).T[:,1:]    \n",
    "    \n",
    "    np.save(\"./data/Outputs/Embs/\"+savename+\"_embedding_dense_res_veconly.npy\", X) #store vectors only"
   ]
  },
  {
   "cell_type": "markdown",
   "metadata": {
    "deletable": true,
    "editable": true
   },
   "source": [
    "Run Statis to back-project the grouped embeddings"
   ]
  },
  {
   "cell_type": "code",
   "execution_count": 5,
   "metadata": {
    "collapsed": false,
    "deletable": true,
    "editable": true,
    "scrolled": true
   },
   "outputs": [],
   "source": [
    "%%capture\n",
    "from pySTATIS import statis\n",
    "\n",
    "#load vectors\n",
    "names = list(xrange(392))\n",
    "X = [np.load(\"./data/Outputs/Embs/\"+ os.path.basename(filename)+\"_embedding_dense_res_veconly.npy\") for filename in selected2]\n",
    "out = statis.statis(X, names, fname='statis_results.npy')\n",
    "statis.project_back(X, out['Q'], path = \"./data/Outputs/Regs/\",fnames = selected2)\n",
    "np.save(\"Mean_Vec.npy\",out['F'])"
   ]
  },
  {
   "cell_type": "code",
   "execution_count": null,
   "metadata": {
    "collapsed": true,
    "deletable": true,
    "editable": true
   },
   "outputs": [],
   "source": [
    "# saving everything in one dump\n",
    "import pickle\n",
    "with open('output.pickle' ,'w') as f:\n",
    "    pickle.dump([selected, out],f)"
   ]
  },
  {
   "cell_type": "markdown",
   "metadata": {
    "deletable": true,
    "editable": true
   },
   "source": [
    "#### plotting \n",
    "plot to surface for inspection\n",
    "this cell in only necessary for plotting below"
   ]
  },
  {
   "cell_type": "code",
   "execution_count": 10,
   "metadata": {
    "collapsed": true,
    "deletable": true,
    "editable": true
   },
   "outputs": [],
   "source": [
    "%matplotlib inline\n",
    "import matplotlib.pylab as plt\n",
    "import nilearn\n",
    "import nilearn.plotting\n",
    "\n",
    "import numpy as np\n",
    "import nibabel as nib\n",
    "\n",
    "def rebuild_nii(num):\n",
    "\n",
    "    data = np.load('Mean_Vec.npy')\n",
    "    a = data[:,num].copy()\n",
    "    nim = nib.load('cc400_roi_atlas.nii')\n",
    "    imdat=nim.get_data()\n",
    "    imdat_new = imdat.copy()\n",
    "\n",
    "    for n, i in enumerate(np.unique(imdat)):\n",
    "        if i != 0:\n",
    "            imdat_new[imdat == i] = a[n-1] * 10000 # scaling factor. Could also try to get float values in nifti...\n",
    "\n",
    "    nim_out = nib.Nifti1Image(imdat_new, nim.get_affine(), nim.get_header())\n",
    "    nim_out.set_data_dtype('float32')\n",
    "    # to save:\n",
    "    nim_out.to_filename('Gradient_'+ str(num) +'_res.nii')\n",
    "\n",
    "    nilearn.plotting.plot_epi(nim_out)\n",
    "    return(nim_out)"
   ]
  },
  {
   "cell_type": "code",
   "execution_count": 11,
   "metadata": {
    "collapsed": false,
    "deletable": true,
    "editable": true
   },
   "outputs": [
    {
     "name": "stderr",
     "output_type": "stream",
     "text": [
      "/Library/anaconda/envs/rbbrainhack/lib/python2.7/site-packages/ipykernel/__main__.py:21: DeprecationWarning: get_affine method is deprecated.\n",
      "Please use the ``img.affine`` property instead.\n",
      "\n",
      "* deprecated from version: 2.1\n",
      "* Will raise <class 'nibabel.deprecator.ExpiredDeprecationError'> as of version: 4.0\n",
      "/Library/anaconda/envs/rbbrainhack/lib/python2.7/site-packages/ipykernel/__main__.py:21: DeprecationWarning: get_header method is deprecated.\n",
      "Please use the ``img.header`` property instead.\n",
      "\n",
      "* deprecated from version: 2.1\n",
      "* Will raise <class 'nibabel.deprecator.ExpiredDeprecationError'> as of version: 4.0\n"
     ]
    },
    {
     "data": {
      "image/png": "[encoded data removed]",
      "text/plain": [
       "<matplotlib.figure.Figure at 0x110e862d0>"
      ]
     },
     "metadata": {},
     "output_type": "display_data"
    },
    {
     "data": {
      "image/png": "[encoded data removed]",
      "text/plain": [
       "<matplotlib.figure.Figure at 0x11ebd26d0>"
      ]
     },
     "metadata": {},
     "output_type": "display_data"
    },
    {
     "data": {
      "image/png": "[encoded data removed]",
      "text/plain": [
       "<matplotlib.figure.Figure at 0x11ebd2610>"
      ]
     },
     "metadata": {},
     "output_type": "display_data"
    },
    {
     "data": {
      "image/png": "[encoded data removed]",
      "text/plain": [
       "<matplotlib.figure.Figure at 0x11f7c1b50>"
      ]
     },
     "metadata": {},
     "output_type": "display_data"
    },
    {
     "data": {
      "image/png": "[encoded data removed]",
      "text/plain": [
       "<matplotlib.figure.Figure at 0x11fa18990>"
      ]
     },
     "metadata": {},
     "output_type": "display_data"
    },
    {
     "data": {
      "image/png": "[encoded data removed]",
      "text/plain": [
       "<matplotlib.figure.Figure at 0x11fc777d0>"
      ]
     },
     "metadata": {},
     "output_type": "display_data"
    },
    {
     "data": {
      "image/png": "[encoded data removed]",
      "text/plain": [
       "<matplotlib.figure.Figure at 0x11fecf9d0>"
      ]
     },
     "metadata": {},
     "output_type": "display_data"
    },
    {
     "data": {
      "image/png": "[encoded data removed]",
      "text/plain": [
       "<matplotlib.figure.Figure at 0x120129410>"
      ]
     },
     "metadata": {},
     "output_type": "display_data"
    },
    {
     "data": {
      "image/png": "[encoded data removed]",
      "text/plain": [
       "<matplotlib.figure.Figure at 0x11c39e850>"
      ]
     },
     "metadata": {},
     "output_type": "display_data"
    },
    {
     "data": {
      "image/png": "[encoded data removed]",
      "text/plain": [
       "<matplotlib.figure.Figure at 0x1205dd450>"
      ]
     },
     "metadata": {},
     "output_type": "display_data"
    }
   ],
   "source": [
    "for i in range(10):\n",
    "    nims = rebuild_nii(i)"
   ]
  },
  {
   "cell_type": "markdown",
   "metadata": {
    "collapsed": true,
    "deletable": true,
    "editable": true
   },
   "source": [
    "Output everything to an excel file"
   ]
  },
  {
   "cell_type": "code",
   "execution_count": 6,
   "metadata": {
    "collapsed": false,
    "deletable": true,
    "editable": true
   },
   "outputs": [],
   "source": [
    "import pandas as pd\n",
    "# read in csv\n",
    "df_phen = pd.read_csv('Phenotypic_V1_0b_preprocessed1.csv')\n",
    "# add a column that matches the filename\n",
    "for i in df_phen:\n",
    "    df_phen['filename'] = join(df_phen['FILE_ID']+\"_rois_cc400.1D\")\n",
    "    df_phen['filenamelpy'] = join(df_phen['FILE_ID']+\"_rois_cc400.1D.npy\")\n",
    "\n",
    "df_phen['selec'] = np.where(df_phen['filename'].isin((selected2)), 1, 0)"
   ]
  },
  {
   "cell_type": "markdown",
   "metadata": {
    "deletable": true,
    "editable": true
   },
   "source": [
    "Compare the slopes across subjects"
   ]
  },
  {
   "cell_type": "code",
   "execution_count": 73,
   "metadata": {
    "collapsed": false,
    "deletable": true,
    "editable": true
   },
   "outputs": [],
   "source": [
    "from scipy import stats\n",
    "grdnt_slope = []\n",
    "for i in selected2:\n",
    "    # load gradients\n",
    "    # print i\n",
    "    filename = i\n",
    "    grdnt = np.load(\"./data/Outputs/Regs/\" + filename + \".npy\")\n",
    "    # do we need a specific ordering of the nodes??\n",
    "    y = list(xrange(392))\n",
    "    temp = []\n",
    "    for ii in range(10):\n",
    "        x = sorted(grdnt[:,ii]) # just sort in ascending order?\n",
    "        slope, intercept, r_value, p_value, std_err = stats.linregress(x,y)\n",
    "        temp.append(slope)\n",
    "        \n",
    "    grdnt_slope.append(temp)\n",
    "grdnt_slope = np.array(grdnt_slope)\n",
    "# make it into a dataframe\n",
    "data_grdnt = pd.DataFrame(grdnt_slope)\n",
    "data_grdnt['file'] = selected2"
   ]
  },
  {
   "cell_type": "markdown",
   "metadata": {
    "deletable": true,
    "editable": true
   },
   "source": [
    "And write them to an excel file"
   ]
  },
  {
   "cell_type": "code",
   "execution_count": 8,
   "metadata": {
    "collapsed": false,
    "deletable": true,
    "editable": true
   },
   "outputs": [
    {
     "name": "stderr",
     "output_type": "stream",
     "text": [
      "/anaconda/lib/python2.7/site-packages/ipykernel/__main__.py:2: SettingWithCopyWarning: \n",
      "A value is trying to be set on a copy of a slice from a DataFrame.\n",
      "Try using .loc[row_indexer,col_indexer] = value instead\n",
      "\n",
      "See the caveats in the documentation: http://pandas.pydata.org/pandas-docs/stable/indexing.html#indexing-view-versus-copy\n",
      "  from ipykernel import kernelapp as app\n",
      "/anaconda/lib/python2.7/site-packages/ipykernel/__main__.py:3: FutureWarning: sort(columns=....) is deprecated, use sort_values(by=.....)\n",
      "  app.launch_new_instance()\n"
     ]
    }
   ],
   "source": [
    "data = df_phen.loc[df_phen[\"selec\"] == 1]\n",
    "data['filenamelow'] = data['filename'].str.lower()\n",
    "data = data.sort(['filenamelow'])\n",
    "\n",
    "output = data.merge(data_grdnt, left_on='filename',right_on='file',how='outer')\n",
    "output.to_csv('Combined.csv', sep='\\t')"
   ]
  },
  {
   "cell_type": "markdown",
   "metadata": {
    "deletable": true,
    "editable": true
   },
   "source": [
    "Plot some stuff"
   ]
  },
  {
   "cell_type": "code",
   "execution_count": 69,
   "metadata": {
    "collapsed": false,
    "deletable": true,
    "editable": true,
    "scrolled": true
   },
   "outputs": [
    {
     "data": {
      "image/png": "[encoded data removed]",
      "text/plain": [
       "<matplotlib.figure.Figure at 0x118278490>"
      ]
     },
     "metadata": {},
     "output_type": "display_data"
    }
   ],
   "source": [
    "## numpy is used for creating fake data\n",
    "%matplotlib inline\n",
    "import numpy as np \n",
    "import matplotlib as mpl \n",
    "\n",
    "## agg backend is used to create plot as a .png file\n",
    "mpl.use('agg')\n",
    "\n",
    "import matplotlib.pyplot as plt \n",
    "df = pd.DataFrame(output, columns = ['DX_GROUP', 0,1,2,3,4,5,6,7,8,9])\n",
    "ASC = df['DX_GROUP'] == 2\n",
    "NT = df['DX_GROUP'] == 1\n",
    "G1 = df[ASC]\n",
    "G2 = df[NT]\n",
    "\n",
    "# some plotting options\n",
    "fs = 10  # fontsize\n",
    "flierprops = dict(marker='o', markerfacecolor='green', markersize=12,\n",
    "                  linestyle='none')\n",
    "\n",
    "## combine the groups collections into a list    \n",
    "Grd0 = [G1[0], G2[0]]\n",
    "Grd1 = [G1[1], G2[1]]\n",
    "Grd2 = [G1[2], G2[2]]\n",
    "Grd3 = [G1[3], G2[3]]\n",
    "Grd4 = [G1[4], G2[4]]\n",
    "Grd5 = [G1[5], G2[5]]\n",
    "Grd6 = [G1[6], G2[6]]\n",
    "Grd7 = [G1[7], G2[7]]\n",
    "Grd8 = [G1[8], G2[8]]\n",
    "Grd9 = [G1[9], G2[9]]\n",
    "\n",
    "fig, axes = plt.subplots(nrows=2, ncols=5, figsize=(6, 6), sharey=True)\n",
    "\n",
    "axes[0, 0].boxplot(Grd0, patch_artist=True)\n",
    "axes[0, 0].set_title('G0', fontsize=fs)\n",
    "\n",
    "axes[0, 1].boxplot(Grd1, patch_artist=True)\n",
    "axes[0, 1].set_title('G1', fontsize=fs)\n",
    "\n",
    "axes[0, 2].boxplot(Grd2, patch_artist=True)\n",
    "axes[0, 2].set_title('G2', fontsize=fs)\n",
    "\n",
    "axes[0, 3].boxplot(Grd3, patch_artist=True)\n",
    "axes[0, 3].set_title('G3', fontsize=fs)\n",
    "\n",
    "axes[0, 4].boxplot(Grd4, patch_artist=True)\n",
    "axes[0, 4].set_title('G4', fontsize=fs)\n",
    "\n",
    "axes[1, 0].boxplot(Grd5, patch_artist=True)\n",
    "axes[1, 0].set_title('G5', fontsize=fs)\n",
    "\n",
    "axes[1, 1].boxplot(Grd6, patch_artist=True)\n",
    "axes[1, 1].set_title('G6', fontsize=fs)\n",
    "\n",
    "axes[1, 2].boxplot(Grd7, patch_artist=True)\n",
    "axes[1, 2].set_title('G7', fontsize=fs)\n",
    "\n",
    "axes[1, 3].boxplot(Grd8, patch_artist=True)\n",
    "axes[1, 3].set_title('G8', fontsize=fs)\n",
    "\n",
    "axes[1, 4].boxplot(Grd9, patch_artist=True)\n",
    "axes[1, 4].set_title('G9', fontsize=fs)\n",
    "\n",
    "fig.suptitle(\"Gradient Slopes\")\n",
    "fig.subplots_adjust(hspace=0.4)"
   ]
  },
  {
   "cell_type": "markdown",
   "metadata": {
    "deletable": true,
    "editable": true
   },
   "source": [
    "Permutations"
   ]
  },
  {
   "cell_type": "code",
   "execution_count": 79,
   "metadata": {
    "collapsed": false,
    "deletable": true,
    "editable": true
   },
   "outputs": [
    {
     "name": "stdout",
     "output_type": "stream",
     "text": [
      "0\n",
      "0\n"
     ]
    }
   ],
   "source": [
    "def exact_mc_perm_test(xs, ys, nmc):\n",
    "    n, k = len(xs), 0\n",
    "    diff = np.abs(np.mean(xs) - np.mean(ys))\n",
    "    zs = np.concatenate([xs, ys])\n",
    "    for j in range(nmc):\n",
    "        np.random.shuffle(zs)\n",
    "        k += diff < np.abs(np.mean(zs[:n]) - np.mean(zs[n:]))\n",
    "    return k / nmc\n",
    "\n",
    "print(exact_mc_perm_test(G1[0],G2[0],1000))\n",
    "print(exact_mc_perm_test(G1[1],G2[1],1000))"
   ]
  },
  {
   "cell_type": "markdown",
   "metadata": {
    "deletable": true,
    "editable": true
   },
   "source": [
    "Some quality control"
   ]
  },
  {
   "cell_type": "code",
   "execution_count": 20,
   "metadata": {
    "collapsed": false,
    "deletable": true,
    "editable": true
   },
   "outputs": [],
   "source": [
    "%matplotlib inline\n",
    "# this cell in only necessary for plotting below\n",
    "import matplotlib.pylab as plt \n",
    "import nilearn \n",
    "import nilearn.plotting \n",
    "\n",
    "import numpy as np\n",
    "import nibabel as nib\n",
    "from os import listdir\n",
    "from os.path import isfile, join\n",
    "\n",
    "def rebuild_nii(num):\n",
    "    \n",
    "    data = np.load('Mean_Vec.npy')\n",
    "    a = data[:,num].copy()\n",
    "    nim = nib.load('cc400_roi_atlas.nii')\n",
    "    imdat=nim.get_data()\n",
    "    imdat_new = imdat.copy()\n",
    "\n",
    "    for n, i in enumerate(np.unique(imdat)):\n",
    "        if i != 0:\n",
    "            imdat_new[imdat == i] = a[n-1] * 100000 # scaling factor. Could also try to get float values in nifti...\n",
    "\n",
    "    nim_out = nib.Nifti1Image(imdat_new, nim.get_affine(), nim.get_header())\n",
    "    nim_out.set_data_dtype('float32')\n",
    "    # to save:\n",
    "    # nim_out.to_filename('res.nii')\n",
    "\n",
    "    nilearn.plotting.plot_epi(nim_out)\n",
    "\n",
    "def rebuild_nii_individ(num):\n",
    "    \n",
    "    onlyfiles = [f for f in listdir_nohidden('./data/Outputs/Regs/') if isfile(join('./data/Outputs/Regs/', f))]\n",
    "    for index in range(178):\n",
    "        \n",
    "        sub = onlyfiles[index]\n",
    "        print(sub)\n",
    "        data = np.load('./data/Outputs/Regs/%s' % sub)\n",
    "        a = data[:,num].astype('float32')\n",
    "        nim = nib.load('cc400_roi_atlas.nii')\n",
    "        imdat = nim.get_data().astype('float32')\n",
    "        \n",
    "        #print(np.unique(a))\n",
    "        for i in np.unique(imdat):\n",
    "            #a[a>0.1] = 0\n",
    "            #a[a<-0.1] = 0\n",
    "            if i != 0 and i < 392:\n",
    "                imdat[imdat == i] = a[int(i)-1] # scaling factor. Could also try to get float values in nifti...\n",
    "            elif i >= 392:\n",
    "                imdat[imdat == i] = np.nan\n",
    "\n",
    "        nim_out = nib.Nifti1Image(imdat, nim.get_affine(), nim.get_header())\n",
    "        nim_out.set_data_dtype('float32')\n",
    "        # to save:\n",
    "        nim_out.to_filename(os.getcwd() + '/data/Outputs/individual/' + 'res' + sub + str(num) + '.nii')\n",
    "        print(os.getcwd())\n",
    "        # nilearn.plotting.plot_epi(nim_out)\n"
   ]
  },
  {
   "cell_type": "markdown",
   "metadata": {
    "deletable": true,
    "editable": true
   },
   "source": [
    "Check all individual images"
   ]
  },
  {
   "cell_type": "code",
   "execution_count": 21,
   "metadata": {
    "collapsed": false,
    "deletable": true,
    "editable": true,
    "scrolled": true
   },
   "outputs": [
    {
     "name": "stdout",
     "output_type": "stream",
     "text": [
      "Caltech_0051465_rois_cc400.1D.npy\n"
     ]
    },
    {
     "name": "stderr",
     "output_type": "stream",
     "text": [
      "/Library/anaconda/envs/rbbrainhack/lib/python2.7/site-packages/ipykernel/__main__.py:52: DeprecationWarning: get_affine method is deprecated.\n",
      "Please use the ``img.affine`` property instead.\n",
      "\n",
      "* deprecated from version: 2.1\n",
      "* Will raise <class 'nibabel.deprecator.ExpiredDeprecationError'> as of version: 4.0\n",
      "/Library/anaconda/envs/rbbrainhack/lib/python2.7/site-packages/ipykernel/__main__.py:52: DeprecationWarning: get_header method is deprecated.\n",
      "Please use the ``img.header`` property instead.\n",
      "\n",
      "* deprecated from version: 2.1\n",
      "* Will raise <class 'nibabel.deprecator.ExpiredDeprecationError'> as of version: 4.0\n"
     ]
    },
    {
     "name": "stdout",
     "output_type": "stream",
     "text": [
      "/Users/jan/Dropbox/Documents/Projects/gradients\n",
      "Caltech_0051474_rois_cc400.1D.npy\n",
      "/Users/jan/Dropbox/Documents/Projects/gradients\n",
      "Caltech_0051476_rois_cc400.1D.npy\n",
      "/Users/jan/Dropbox/Documents/Projects/gradients\n",
      "Caltech_0051477_rois_cc400.1D.npy\n",
      "/Users/jan/Dropbox/Documents/Projects/gradients\n",
      "Caltech_0051488_rois_cc400.1D.npy\n",
      "/Users/jan/Dropbox/Documents/Projects/gradients\n",
      "Caltech_0051492_rois_cc400.1D.npy\n",
      "/Users/jan/Dropbox/Documents/Projects/gradients\n",
      "CMU_a_0050649_rois_cc400.1D.npy\n",
      "/Users/jan/Dropbox/Documents/Projects/gradients\n",
      "Leuven_1_0050682_rois_cc400.1D.npy\n",
      "/Users/jan/Dropbox/Documents/Projects/gradients\n",
      "Leuven_1_0050683_rois_cc400.1D.npy\n",
      "/Users/jan/Dropbox/Documents/Projects/gradients\n",
      "Leuven_1_0050685_rois_cc400.1D.npy\n",
      "/Users/jan/Dropbox/Documents/Projects/gradients\n"
     ]
    }
   ],
   "source": [
    "nims = rebuild_nii_individ(0)"
   ]
  },
  {
   "cell_type": "code",
   "execution_count": 84,
   "metadata": {
    "collapsed": false,
    "deletable": true,
    "editable": true
   },
   "outputs": [],
   "source": [
    "!fslview resCaltech_0051474_rois_cc400.1D.npy.nii"
   ]
  }
 ],
 "metadata": {
  "kernelspec": {
   "display_name": "Python 2",
   "language": "python",
   "name": "python2"
  },
  "language_info": {
   "codemirror_mode": {
    "name": "ipython",
    "version": 2
   },
   "file_extension": ".py",
   "mimetype": "text/x-python",
   "name": "python",
   "nbconvert_exporter": "python",
   "pygments_lexer": "ipython2",
   "version": "2.7.12"
  }
 },
 "nbformat": 4,
 "nbformat_minor": 0
}

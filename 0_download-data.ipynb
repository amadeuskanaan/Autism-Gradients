{
 "cells": [
  {
   "cell_type": "markdown",
   "metadata": {},
   "source": [
    "### This notebook will let you download the necessary data from ABIDE.\n",
    "\n",
    "The data is also part of this repository, but if you want to run a similar analysis with differently pre-processed / raw / differently parcellated data this notebook is your friend.\n",
    "\n",
    "Downloading the data works via the ABIDE download python script. The script can be found [here](https://github.com/preprocessed-connectomes-project/abide/blob/master/download_abide_preproc.py), but is also shipped with this repository. More in-depth explanations of how the download works and what parameters you can use to download data are found [here](http://preprocessed-connectomes-project.org/abide/download.html).\n",
    "\n",
    "For this project, we've used data parcelated based on the CC400 atlas, of only males, into the `data` folder, and with an age range from 18 to 55. This is done via the following line:"
   ]
  },
  {
   "cell_type": "code",
   "execution_count": null,
   "metadata": {},
   "outputs": [],
   "source": [
    "!python ./download_abide_preproc.py -d rois_cc400 -p cpac -s filt_noglobal -o data/ -x 'M' -gt 18 -lt 55"
   ]
  },
  {
   "cell_type": "markdown",
   "metadata": {},
   "source": [
    "You can also use the script from the command line rather than this notebook."
   ]
  }
 ],
 "metadata": {
  "kernelspec": {
   "display_name": "Python 2",
   "language": "python",
   "name": "python2"
  },
  "language_info": {
   "codemirror_mode": {
    "name": "ipython",
    "version": 2
   },
   "file_extension": ".py",
   "mimetype": "text/x-python",
   "name": "python",
   "nbconvert_exporter": "python",
   "pygments_lexer": "ipython2",
   "version": "2.7.12"
  }
 },
 "nbformat": 4,
 "nbformat_minor": 2
}

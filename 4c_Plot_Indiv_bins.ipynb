{
 "cells": [
  {
   "cell_type": "markdown",
   "metadata": {},
   "source": [
    "## Step 4c - Visualize the binned gradients\n",
    "\n",
    "#### Write out of individual Nifti files for each percentile bin of the primary gradient\n",
    "\n",
    "#####  written by R. Farahibozorg  for the Autism Gradients project at Brainhack Cambridge 2017"
   ]
  },
  {
   "cell_type": "code",
   "execution_count": 1,
   "metadata": {
    "collapsed": true
   },
   "outputs": [],
   "source": [
    "# first import the input list from the csv file\n",
    "import pandas as pd\n",
    "# read in csv\n",
    "df_phen = pd.read_csv('./data/SelectedSubjects.csv')\n",
    "selected = list(df_phen.filename_npy)"
   ]
  },
  {
   "cell_type": "code",
   "execution_count": 2,
   "metadata": {
    "collapsed": true
   },
   "outputs": [],
   "source": [
    "import matplotlib.pylab as plt\n",
    "import nilearn\n",
    "import nilearn.plotting\n",
    "import os\n",
    "import numpy as np\n",
    "import nibabel as nib\n",
    "##create path to save the output\n",
    "out_pathbase='./data/Outputs/Bins/'\n",
    "if not os.path.exists(out_pathbase):\n",
    "    os.makedirs(out_pathbase)"
   ]
  },
  {
   "cell_type": "code",
   "execution_count": 3,
   "metadata": {
    "collapsed": false
   },
   "outputs": [],
   "source": [
    "def rebuild_nii_indv_bins(num,subs,bins):\n",
    "    thisfile=[selected[ii] for ii in subs]\n",
    "    \n",
    "    for sub in thisfile:\n",
    "        print(sub)\n",
    "        data = np.load('./data/Outputs/Regs/%s' % sub)\n",
    "        a = data[:,num].copy()\n",
    "        steps=int((1/float(bins))*len(a))\n",
    "        data_argsort=np.argsort(a)[::-1]\n",
    "        nim = nib.load('./ROIs_Mask/cc400_roi_atlas.nii')\n",
    "        imdat=nim.get_data().astype('float')\n",
    "        for thisperc in range(bins):            \n",
    "            #print a\n",
    "            #print data_argsort\n",
    "            abin=np.zeros(a.shape)#a.copy()\n",
    "            abin[data_argsort[thisperc*steps:(thisperc+1)*steps+1]]=a[data_argsort[thisperc*steps:(thisperc+1)*steps+1]]            \n",
    "            imdat_new = imdat.copy()\n",
    "            for n, i in enumerate(np.unique(imdat)):\n",
    "                if i != 0 and i < 392:\n",
    "                    imdat_new[imdat == i] = abin[n-1]\n",
    "                elif i >= 392:\n",
    "                    imdat_new[imdat == i] = np.nan\n",
    "            nim_out = nib.Nifti1Image(imdat_new, nim.get_affine(), nim.get_header())\n",
    "            nim_out.set_data_dtype('float32')\n",
    "            \n",
    "            out_path=out_pathbase + '/' + str(thisperc) + '/'\n",
    "            if not os.path.exists(out_path):\n",
    "                os.makedirs(out_path)\n",
    "            \n",
    "            out_name=out_path+'Bin'+str(thisperc)+'_'+sub+'.nii'\n",
    "            #print out_name\n",
    "            # to save:\n",
    "            nim_out.to_filename(out_name)            \n",
    "            #nilearn.plotting.plot_epi(nim_out, cut_coords=(0,0,0),colorbar=True)"
   ]
  },
  {
   "cell_type": "code",
   "execution_count": 4,
   "metadata": {
    "collapsed": false
   },
   "outputs": [
    {
     "name": "stdout",
     "output_type": "stream",
     "text": [
      "Pitt_0050009_rois_cc400.1D.npy\n",
      "Pitt_0050010_rois_cc400.1D.npy\n"
     ]
    }
   ],
   "source": [
    "plt.close(\"all\")\n",
    "for i in range(1):\n",
    "    subs=list(range(len(selected)))\n",
    "    numbins=10\n",
    "    nims = rebuild_nii_indv_bins(i,subs,numbins)\n",
    "    #plt.show()"
   ]
  },
  {
   "cell_type": "code",
   "execution_count": 5,
   "metadata": {
    "collapsed": false
   },
   "outputs": [
    {
     "data": {
      "text/plain": [
       "[0]"
      ]
     },
     "execution_count": 5,
     "metadata": {},
     "output_type": "execute_result"
    }
   ],
   "source": []
  },
  {
   "cell_type": "code",
   "execution_count": null,
   "metadata": {
    "collapsed": true
   },
   "outputs": [],
   "source": []
  }
 ],
 "metadata": {
  "kernelspec": {
   "display_name": "Python 2",
   "language": "python",
   "name": "python2"
  },
  "language_info": {
   "codemirror_mode": {
    "name": "ipython",
    "version": 2
   },
   "file_extension": ".py",
   "mimetype": "text/x-python",
   "name": "python",
   "nbconvert_exporter": "python",
   "pygments_lexer": "ipython2",
   "version": "2.7.12"
  }
 },
 "nbformat": 4,
 "nbformat_minor": 0
}

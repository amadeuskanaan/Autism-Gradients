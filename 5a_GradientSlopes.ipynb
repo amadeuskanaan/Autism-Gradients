{
 "cells": [
  {
   "cell_type": "markdown",
   "metadata": {},
   "source": [
    "## Step 5A - Estimating gradient slopes\n",
    "\n",
    "#####  written by R.A.I. Bethlehem & B. Soergel for the Autism Gradients project at Brainhack Cambridge 2017"
   ]
  },
  {
   "cell_type": "code",
   "execution_count": 1,
   "metadata": {
    "collapsed": true
   },
   "outputs": [],
   "source": [
    "from scipy import stats\n",
    "import pandas as pd\n",
    "import numpy as np\n",
    "import nibabel as nib\n",
    "import os\n",
    "from os import listdir\n",
    "from os.path import isfile, join"
   ]
  },
  {
   "cell_type": "code",
   "execution_count": 2,
   "metadata": {
    "collapsed": true
   },
   "outputs": [],
   "source": [
    "# first import the input list from the csv file\n",
    "import pandas as pd\n",
    "# read in csv\n",
    "df_phen = pd.read_csv('./data/SelectedSubjects.csv')\n",
    "selected = list(df_phen.filename_npy)"
   ]
  },
  {
   "cell_type": "code",
   "execution_count": 5,
   "metadata": {
    "collapsed": true
   },
   "outputs": [],
   "source": [
    "grdnt_slope = []\n",
    "for i in selected:\n",
    "    # load gradients\n",
    "    # print i\n",
    "    filename = i\n",
    "    grdnt = np.load(\"./data/Outputs/Regs/\" + filename)\n",
    "    # do we need a specific ordering of the nodes??\n",
    "    x = list(xrange(392))\n",
    "    temp = []\n",
    "    for ii in range(10):\n",
    "        y = sorted(grdnt[:,ii]) # just sort in ascending order?\n",
    "        slope, intercept, r_value, p_value, std_err = stats.linregress(x,y)\n",
    "        temp.append(slope)\n",
    "        \n",
    "    grdnt_slope.append(temp)\n",
    "grdnt_slope = np.array(grdnt_slope)\n",
    "# make it into a dataframe\n",
    "data_grdnt = pd.DataFrame(grdnt_slope)\n",
    "data_grdnt['file'] = selected"
   ]
  },
  {
   "cell_type": "markdown",
   "metadata": {},
   "source": [
    "Merge with the original file"
   ]
  },
  {
   "cell_type": "code",
   "execution_count": 12,
   "metadata": {
    "collapsed": false
   },
   "outputs": [],
   "source": [
    "output = df_phen.merge(data_grdnt, left_on='filename_npy',right_on='file',how='outer')\n",
    "output.to_csv('./data/Gradients.csv')"
   ]
  },
  {
   "cell_type": "code",
   "execution_count": null,
   "metadata": {
    "collapsed": false
   },
   "outputs": [],
   "source": []
  }
 ],
 "metadata": {
  "kernelspec": {
   "display_name": "Python 2",
   "language": "python",
   "name": "python2"
  },
  "language_info": {
   "codemirror_mode": {
    "name": "ipython",
    "version": 2
   },
   "file_extension": ".py",
   "mimetype": "text/x-python",
   "name": "python",
   "nbconvert_exporter": "python",
   "pygments_lexer": "ipython2",
   "version": "2.7.12"
  }
 },
 "nbformat": 4,
 "nbformat_minor": 0
}

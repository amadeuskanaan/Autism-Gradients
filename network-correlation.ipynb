{
 "cells": [
  {
   "cell_type": "markdown",
   "metadata": {
    "deletable": true,
    "editable": true
   },
   "source": [
    "## Co-register files with standard default mode networks\n",
    "\n",
    "This is a matlab notebook!\n",
    "\n"
   ]
  },
  {
   "cell_type": "code",
   "execution_count": 7,
   "metadata": {
    "collapsed": false,
    "deletable": true,
    "editable": true
   },
   "outputs": [
    {
     "name": "stdout",
     "output_type": "stream",
     "text": [
      "10×1 struct array with fields:\n",
      "\n",
      "    name\n",
      "    folder\n",
      "    date\n",
      "    bytes\n",
      "    isdir\n",
      "    datenum\n"
     ]
    }
   ],
   "source": [
    "gradfiles = dir(fullfile(pwd, 'data', 'Outputs', 'Gradient*.nii'));\n",
    "indivfiles = dir(fullfile(pwd, 'res*.nii'));\n",
    "disp(indivfiles)"
   ]
  },
  {
   "cell_type": "markdown",
   "metadata": {
    "deletable": true,
    "editable": true
   },
   "source": [
    "### Create a transformed file for each of these networks\n",
    "\n",
    "Uses SPM (provided by Richard)"
   ]
  },
  {
   "cell_type": "code",
   "execution_count": 3,
   "metadata": {
    "collapsed": false,
    "deletable": true,
    "editable": true
   },
   "outputs": [
    {
     "name": "stdout",
     "output_type": "stream",
     "text": [
      "Size of target image: 91  109   91\n",
      "Size of object image: 63  75  61\n",
      "Starting 3D interpolation of object image into target space...\n",
      "Size of target image: 91  109   91\n",
      "Size of object image: 63  75  61\n",
      "Starting 3D interpolation of object image into target space...\n",
      "Size of target image: 91  109   91\n",
      "Size of object image: 63  75  61\n",
      "Starting 3D interpolation of object image into target space...\n",
      "Size of target image: 91  109   91\n",
      "Size of object image: 63  75  61\n",
      "Starting 3D interpolation of object image into target space...\n",
      "Size of target image: 91  109   91\n",
      "Size of object image: 63  75  61\n",
      "Starting 3D interpolation of object image into target space...\n",
      "Size of target image: 91  109   91\n",
      "Size of object image: 63  75  61\n",
      "Starting 3D interpolation of object image into target space...\n",
      "Size of target image: 91  109   91\n",
      "Size of object image: 63  75  61\n",
      "Starting 3D interpolation of object image into target space...\n",
      "Size of target image: 91  109   91\n",
      "Size of object image: 63  75  61\n",
      "Starting 3D interpolation of object image into target space...\n",
      "Size of target image: 91  109   91\n",
      "Size of object image: 63  75  61\n",
      "Starting 3D interpolation of object image into target space...\n",
      "Size of target image: 91  109   91\n",
      "Size of object image: 63  75  61\n",
      "Starting 3D interpolation of object image into target space...\n"
     ]
    }
   ],
   "source": [
    "% First use the dorsal DMN\n",
    "network_file = fullfile(pwd, 'standard-networks', 'dorsal_DMN', 'dDMN.nii');\n",
    "for ifile = 1:numel(gradfiles)\n",
    "    gradient_file = fullfile(pwd, 'data', 'Outputs', gradfiles(ifile).name);\n",
    "    % Co-register file\n",
    "    Transform_into_the_same_voxelspace(network_file, gradient_file);\n",
    "end"
   ]
  },
  {
   "cell_type": "markdown",
   "metadata": {
    "deletable": true,
    "editable": true
   },
   "source": [
    "### Cross-correlate the default mode with the gradients\n"
   ]
  },
  {
   "cell_type": "code",
   "execution_count": 2,
   "metadata": {
    "collapsed": false,
    "deletable": true,
    "editable": true,
    "scrolled": false
   },
   "outputs": [
    {
     "name": "stderr",
     "output_type": "stream",
     "text": [
      "\u001b[0;31mmv: rename /Users/jan/Dropbox/Documents/Projects/gradients/mask_mask.nii.gz to /Users/jan/Dropbox/Documents/Projects/gradients/mask.nii.gz: No such file or directory\n",
      "\u001b[0m"
     ]
    }
   ],
   "source": [
    "network_file = fullfile(pwd, 'standard-networks', 'dorsal_DMN', 'dDMN.nii');\n",
    "gradient_folder = fullfile(fileparts(network_file), 'gradients');\n",
    "if exist(fullfile(pwd, 'mask.nii.gz'));\n",
    "    mask_file = fullfile(pwd, 'mask.nii.gz');\n",
    "else\n",
    "    !bet ./standar-networks/dorsal_DMN/dDMN.nii ./mask.nii -m\n",
    "    delete('mask.nii.gz');\n",
    "    movefile('mask_mask.nii.gz', 'mask.nii.gz');\n",
    "end\n",
    "\n",
    "% use richard's crosscorrelate function\n",
    "[r, p] = Between_components_correlations(network_file, gradient_folder, mask_file, 1);"
   ]
  },
  {
   "cell_type": "markdown",
   "metadata": {
    "deletable": true,
    "editable": true
   },
   "source": [
    "### Calculate a goodness of fit of these gradients\n"
   ]
  },
  {
   "cell_type": "code",
   "execution_count": 5,
   "metadata": {
    "collapsed": false,
    "deletable": true,
    "editable": true
   },
   "outputs": [
    {
     "data": {
      "image/png": "[encoded data removed]",
      "text/plain": [
       "<IPython.core.display.Image object>"
      ]
     },
     "metadata": {},
     "output_type": "display_data"
    },
    {
     "name": "stdout",
     "output_type": "stream",
     "text": [
      "ans =\n",
      "\n",
      "     2\n",
      "\n",
      "  Columns 1 through 7\n",
      "\n",
      "    0.0000   -0.1672   -0.0729   -0.0376    0.0304   -0.0259   -0.0732\n",
      "\n",
      "  Columns 8 through 10\n",
      "\n",
      "   -0.1147    0.1462   -0.1189\n"
     ]
    }
   ],
   "source": [
    "network_file = fullfile(pwd, 'ROIs_mask', 'dmn_pAgF_z_FDR_0.01.nii');\n",
    "mask_file = fullfile(pwd, 'ROIs_mask', 'rbgmask.nii');\n",
    "exist(mask_file)\n",
    "\n",
    "for i = 1:numel()\n",
    "    gradient_file = fullfile(pwd, 'standard-networks', 'dorsal_DMN', 'gradients', gradfiles(i).name);\n",
    "    [ratio(i), inside(i), outside(i), corr(i)] = MatlabFuncs.gradient_goodness(gradient_file, network_file, mask_file);\n",
    "end\n",
    "\n",
    "bar(ratio);\n",
    "disp(corr)\n"
   ]
  },
  {
   "cell_type": "code",
   "execution_count": 27,
   "metadata": {
    "collapsed": false
   },
   "outputs": [
    {
     "name": "stdout",
     "output_type": "stream",
     "text": [
      "ans =\n",
      "\n",
      "     2\n",
      "\n",
      "Size of target image: 91  109   91\n",
      "Size of object image: 63  75  61\n",
      "Starting 3D interpolation of object image into target space...\n",
      "\n",
      "gradient_file =\n",
      "\n",
      "/Users/jan/Dropbox/Documents/Projects/gradients/resCMU_a_0050649_rois_cc400.1D.npytransformed.nii\n",
      "\n",
      "Size of target image: 91  109   91\n",
      "Size of object image: 63  75  61\n",
      "Starting 3D interpolation of object image into target space...\n",
      "\n",
      "gradient_file =\n",
      "\n",
      "/Users/jan/Dropbox/Documents/Projects/gradients/resCaltech_0051465_rois_cc400.1D.npytransformed.nii\n",
      "\n",
      "Size of target image: 91  109   91\n",
      "Size of object image: 63  75  61\n",
      "Starting 3D interpolation of object image into target space...\n",
      "\n",
      "gradient_file =\n",
      "\n",
      "/Users/jan/Dropbox/Documents/Projects/gradients/resCaltech_0051474_rois_cc400.1D.npytransformed.nii\n",
      "\n",
      "Size of target image: 91  109   91\n",
      "Size of object image: 63  75  61\n",
      "Starting 3D interpolation of object image into target space...\n",
      "\n",
      "gradient_file =\n",
      "\n",
      "/Users/jan/Dropbox/Documents/Projects/gradients/resCaltech_0051476_rois_cc400.1D.npytransformed.nii\n",
      "\n",
      "Size of target image: 91  109   91\n",
      "Size of object image: 63  75  61\n",
      "Starting 3D interpolation of object image into target space...\n",
      "\n",
      "gradient_file =\n",
      "\n",
      "/Users/jan/Dropbox/Documents/Projects/gradients/resCaltech_0051477_rois_cc400.1D.npytransformed.nii\n",
      "\n",
      "Size of target image: 91  109   91\n",
      "Size of object image: 63  75  61\n",
      "Starting 3D interpolation of object image into target space...\n",
      "\n",
      "gradient_file =\n",
      "\n",
      "/Users/jan/Dropbox/Documents/Projects/gradients/resCaltech_0051488_rois_cc400.1D.npytransformed.nii\n",
      "\n",
      "Size of target image: 91  109   91\n",
      "Size of object image: 63  75  61\n",
      "Starting 3D interpolation of object image into target space...\n",
      "\n",
      "gradient_file =\n",
      "\n",
      "/Users/jan/Dropbox/Documents/Projects/gradients/resCaltech_0051492_rois_cc400.1D.npytransformed.nii\n",
      "\n",
      "Size of target image: 91  109   91\n",
      "Size of object image: 63  75  61\n",
      "Starting 3D interpolation of object image into target space...\n",
      "\n",
      "gradient_file =\n",
      "\n",
      "/Users/jan/Dropbox/Documents/Projects/gradients/resLeuven_1_0050682_rois_cc400.1D.npytransformed.nii\n",
      "\n",
      "Size of target image: 91  109   91\n",
      "Size of object image: 63  75  61\n",
      "Starting 3D interpolation of object image into target space...\n",
      "\n",
      "gradient_file =\n",
      "\n",
      "/Users/jan/Dropbox/Documents/Projects/gradients/resLeuven_1_0050683_rois_cc400.1D.npytransformed.nii\n",
      "\n",
      "Size of target image: 91  109   91\n",
      "Size of object image: 63  75  61\n",
      "Starting 3D interpolation of object image into target space...\n",
      "\n",
      "gradient_file =\n",
      "\n",
      "/Users/jan/Dropbox/Documents/Projects/gradients/resLeuven_1_0050685_rois_cc400.1D.npytransformed.nii\n",
      "\n",
      "  Columns 1 through 7\n",
      "\n",
      "   18.9357   10.4389   12.6628    4.8086  110.6144   40.7947    5.8361\n",
      "\n",
      "  Columns 8 through 10\n",
      "\n",
      "    8.8984   17.0836    2.6426\n"
     ]
    }
   ],
   "source": [
    "network_file = fullfile(pwd, 'ROIs_mask', 'dmn_pAgF_z_FDR_0.01.nii');\n",
    "mask_file = fullfile(pwd, 'ROIs_mask', 'rbgmask.nii');\n",
    "exist(mask_file)\n",
    "\n",
    "for i = 1:numel(indivfiles)\n",
    "    gradient_file = fullfile(pwd, indivfiles(i).name);\n",
    "    MatlabFuncs.Transform_into_the_same_voxelspace(network_file, gradient_file)\n",
    "    gradient_file = fullfile([gradient_file(1:end-4), 'transformed.nii'])\n",
    "    [ratio(i), inside(i), outside(i), corr(i)] = MatlabFuncs.gradient_goodness(gradient_file, network_file, mask_file);\n",
    "end\n",
    "\n",
    "bar(ratio);\n",
    "disp(ratio)\n"
   ]
  },
  {
   "cell_type": "code",
   "execution_count": 26,
   "metadata": {
    "collapsed": false
   },
   "outputs": [
    {
     "name": "stdout",
     "output_type": "stream",
     "text": [
      "Columns 1 through 7\n",
      "\n",
      "    3.8070    3.1867   26.5799    6.9001   11.3222    2.3952    6.3402\n",
      "\n",
      "  Columns 8 through 10\n",
      "\n",
      "    3.8252    9.0870    2.1917\n",
      "\n",
      "  Columns 1 through 7\n",
      "\n",
      "    0.2146    0.1695    0.0843    0.2196    0.1604    0.0767    0.2016\n",
      "\n",
      "  Columns 8 through 10\n",
      "\n",
      "    0.2085    0.2103    0.0895\n",
      "\n",
      "  Columns 1 through 7\n",
      "\n",
      "    0.0564    0.0532    0.0032    0.0318    0.0142    0.0320    0.0318\n",
      "\n",
      "  Columns 8 through 10\n",
      "\n",
      "    0.0545    0.0231    0.0408\n"
     ]
    }
   ],
   "source": [
    "disp(ratio)\n",
    "disp(inside)\n",
    "disp(outside)"
   ]
  },
  {
   "cell_type": "code",
   "execution_count": 28,
   "metadata": {
    "collapsed": false
   },
   "outputs": [
    {
     "name": "stdout",
     "output_type": "stream",
     "text": [
      "Columns 1 through 7\n",
      "\n",
      "   18.9357   10.4389   12.6628    4.8086  110.6144   40.7947    5.8361\n",
      "\n",
      "  Columns 8 through 10\n",
      "\n",
      "    8.8984   17.0836    2.6426\n"
     ]
    }
   ],
   "source": [
    "disp(ratio)"
   ]
  }
 ],
 "metadata": {
  "anaconda-cloud": {},
  "kernelspec": {
   "display_name": "Matlab",
   "language": "matlab",
   "name": "matlab"
  },
  "language_info": {
   "codemirror_mode": "octave",
   "file_extension": ".m",
   "help_links": [
    {
     "text": "MetaKernel Magics",
     "url": "https://github.com/calysto/metakernel/blob/master/metakernel/magics/README.md"
    }
   ],
   "mimetype": "text/x-octave",
   "name": "matlab",
   "version": "0.11.0"
  }
 },
 "nbformat": 4,
 "nbformat_minor": 1
}

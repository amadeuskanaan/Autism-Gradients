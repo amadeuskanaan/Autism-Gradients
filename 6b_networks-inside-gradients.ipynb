{
 "cells": [
  {
   "cell_type": "code",
   "execution_count": 1,
   "metadata": {
    "collapsed": true,
    "deletable": true,
    "editable": true
   },
   "outputs": [],
   "source": [
    "% matplotlib inline \n",
    "\n",
    "from __future__ import print_function\n",
    "\n",
    "import nibabel as nib\n",
    "from nilearn.image import resample_img\n",
    "\n",
    "import matplotlib.pyplot as plt\n",
    "\n",
    "import numpy as np\n",
    "import os\n",
    "import os.path\n",
    "\n",
    "# The following are a progress bar, these are not strictly necessary:\n",
    "from ipywidgets import FloatProgress\n",
    "from IPython.display import display"
   ]
  },
  {
   "cell_type": "code",
   "execution_count": 2,
   "metadata": {
    "collapsed": true,
    "deletable": true,
    "editable": true
   },
   "outputs": [],
   "source": [
    "percentiles = range(10)\n",
    "\n",
    "# unthresholded z-maps from neurosynth:\n",
    "zmaps = [os.path.join(os.getcwd(), 'ROIs_Mask', fname) for fname in os.listdir(os.path.join(os.getcwd(), 'ROIs_Mask'))\n",
    "         if 'z.nii.gz' in fname]\n",
    "\n",
    "# individual, binned gradient maps, in a list of lists:\n",
    "gradmaps = [[os.path.join(os.getcwd(), 'data', 'Outputs', 'Bins', str(percentile), fname)\n",
    "             for fname in os.listdir(os.path.join(os.getcwd(), 'data', 'Outputs', 'Bins', str(percentile)))]\n",
    "            for percentile in percentiles]\n",
    "\n",
    "# a brain mask file:\n",
    "brainmask = os.path.join(os.getcwd(), 'ROIs_Mask', 'rbgmask.nii')"
   ]
  },
  {
   "cell_type": "code",
   "execution_count": 3,
   "metadata": {
    "collapsed": true,
    "deletable": true,
    "editable": true
   },
   "outputs": [],
   "source": [
    "def zinsidemask(zmap, mask):\n",
    "    # check if mapping is the same, otherwise transform:\n",
    "    if zmap.shape != mask.shape:\n",
    "        zmap = resample_img(zmap, target_affine=mask.affine, target_shape=mask.shape)\n",
    "    zaverage = zmap.dataobj[np.not_equal(mask.dataobj, 0)].mean()\n",
    "    return zaverage"
   ]
  },
  {
   "cell_type": "code",
   "execution_count": null,
   "metadata": {
    "collapsed": false,
    "deletable": true,
    "editable": true
   },
   "outputs": [
    {
     "data": {
      "application/vnd.jupyter.widget-view+json": {
       "model_id": "221863f4f5c747ed94b2ed4014d55ccc"
      }
     },
     "metadata": {},
     "output_type": "display_data"
    }
   ],
   "source": [
    "zmap = nib.load(zmaps[0])\n",
    "\n",
    "zaverages = np.zeros([len(zmaps), len(gradmaps), len(gradmaps[0])])\n",
    "\n",
    "progbar = FloatProgress(min=0, max=zaverages.size)\n",
    "display(progbar)\n",
    "for i1, zmapfile in enumerate(zmaps):\n",
    "    zmap = nib.load(zmapfile)\n",
    "    for i2, percentile in enumerate(percentiles):\n",
    "        for i3, gradmapfile in enumerate(gradmaps[percentile]):\n",
    "            gradmap = nib.load(gradmapfile)\n",
    "            zaverages[i1, i2, i3] = zinsidemask(zmap, gradmap)\n",
    "            progbar.value += 1\n"
   ]
  }
 ],
 "metadata": {
  "kernelspec": {
   "display_name": "Python 2",
   "language": "python",
   "name": "python2"
  },
  "language_info": {
   "codemirror_mode": {
    "name": "ipython",
    "version": 2
   },
   "file_extension": ".py",
   "mimetype": "text/x-python",
   "name": "python",
   "nbconvert_exporter": "python",
   "pygments_lexer": "ipython2",
   "version": "2.7.12"
  }
 },
 "nbformat": 4,
 "nbformat_minor": 2
}

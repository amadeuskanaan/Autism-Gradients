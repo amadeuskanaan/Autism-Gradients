{
 "cells": [
  {
   "cell_type": "markdown",
   "metadata": {},
   "source": [
    "## Step 4b - Visualize the individual gradients\n",
    "\n",
    "#### Write out of individual Nifti files for primary gradient\n",
    "\n",
    "#####  written by J. Freyberg  for the Autism Gradients project at Brainhack Cambridge 2017"
   ]
  },
  {
   "cell_type": "code",
   "execution_count": 1,
   "metadata": {
    "collapsed": true
   },
   "outputs": [
    {
     "name": "stderr",
     "output_type": "stream",
     "text": [
      "C:\\Users\\k1513504\\AppData\\Local\\Continuum\\Miniconda3\\envs\\rbbrainhack\\lib\\site-packages\\sklearn\\cross_validation.py:44: DeprecationWarning: This module was deprecated in version 0.18 in favor of the model_selection module into which all the refactored classes and functions are moved. Also note that the interface of the new CV iterators are different from that of this module. This module will be removed in 0.20.\n",
      "  \"This module will be removed in 0.20.\", DeprecationWarning)\n"
     ]
    }
   ],
   "source": [
    "%matplotlib inline\n",
    "# this cell in only necessary for plotting below\n",
    "import matplotlib.pylab as plt \n",
    "import nilearn \n",
    "import nilearn.plotting\n",
    "\n",
    "import numpy as np\n",
    "import nibabel as nib\n",
    "import os\n",
    "from os import listdir\n",
    "from os.path import isfile, join"
   ]
  },
  {
   "cell_type": "code",
   "execution_count": 2,
   "metadata": {
    "collapsed": true
   },
   "outputs": [],
   "source": [
    "# first import the input list from the csv file\n",
    "import pandas as pd\n",
    "# read in csv\n",
    "df_phen = pd.read_csv('./data/SelectedSubjects.csv')\n",
    "selected = list(df_phen.filename_npy)"
   ]
  },
  {
   "cell_type": "code",
   "execution_count": 9,
   "metadata": {
    "collapsed": true
   },
   "outputs": [],
   "source": [
    "def rebuild_nii_individ(num):\n",
    "    \n",
    "    for index in range(len(selected)):\n",
    "        \n",
    "        sub = selected[index]\n",
    "        #print(sub)\n",
    "        data = np.load('./data/Outputs/Regs/%s' % sub)\n",
    "        a = data[:,num].astype('float32')\n",
    "        nim = nib.load('./ROIs_Mask/cc400_roi_atlas.nii')\n",
    "        imdat = nim.get_data().astype('float32')\n",
    "        \n",
    "        #print(np.unique(a))\n",
    "        for i in np.unique(imdat):\n",
    "            #a[a>0.1] = 0\n",
    "            #a[a<-0.1] = 0\n",
    "            if i != 0 and i < 392:\n",
    "                imdat[imdat == i] = a[int(i)-1]\n",
    "            elif i >= 392:\n",
    "                imdat[imdat == i] = np.nan\n",
    "\n",
    "        nim_out = nib.Nifti1Image(imdat, nim.affine, nim.header)\n",
    "        nim_out.set_data_dtype('float32')\n",
    "        # to save:\n",
    "        nim_out.to_filename(os.path.join(os.getcwd(), 'data', 'Outputs', 'individual', 'res' + sub + str(num) + '.nii'))"
   ]
  },
  {
   "cell_type": "code",
   "execution_count": null,
   "metadata": {
    "collapsed": false
   },
   "outputs": [
    {
     "name": "stderr",
     "output_type": "stream",
     "text": [
      "C:\\Users\\k1513504\\AppData\\Local\\Continuum\\Miniconda3\\envs\\rbbrainhack\\lib\\site-packages\\ipykernel\\__main__.py:21: DeprecationWarning: get_affine method is deprecated.\n",
      "Please use the ``img.affine`` property instead.\n",
      "\n",
      "* deprecated from version: 2.1\n",
      "* Will raise <class 'nibabel.deprecator.ExpiredDeprecationError'> as of version: 4.0\n",
      "C:\\Users\\k1513504\\AppData\\Local\\Continuum\\Miniconda3\\envs\\rbbrainhack\\lib\\site-packages\\ipykernel\\__main__.py:21: DeprecationWarning: get_header method is deprecated.\n",
      "Please use the ``img.header`` property instead.\n",
      "\n",
      "* deprecated from version: 2.1\n",
      "* Will raise <class 'nibabel.deprecator.ExpiredDeprecationError'> as of version: 4.0\n"
     ]
    }
   ],
   "source": [
    "nims = rebuild_nii_individ(0)"
   ]
  }
 ],
 "metadata": {
  "kernelspec": {
   "display_name": "Python 2",
   "language": "python",
   "name": "python2"
  },
  "language_info": {
   "codemirror_mode": {
    "name": "ipython",
    "version": 2
   },
   "file_extension": ".py",
   "mimetype": "text/x-python",
   "name": "python",
   "nbconvert_exporter": "python",
   "pygments_lexer": "ipython2",
   "version": "2.7.12"
  }
 },
 "nbformat": 4,
 "nbformat_minor": 1
}

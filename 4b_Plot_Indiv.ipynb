{
 "cells": [
  {
   "cell_type": "markdown",
   "metadata": {},
   "source": [
    "## Step 4b - Visualize the individual gradients\n",
    "\n",
    "#### Write out of individual Nifti files for primary gradient\n",
    "\n",
    "#####  written by J. Freyberg  for the Autism Gradients project at Brainhack Cambridge 2017"
   ]
  },
  {
   "cell_type": "code",
   "execution_count": 19,
   "metadata": {
    "collapsed": true
   },
   "outputs": [],
   "source": [
    "%matplotlib inline\n",
    "# this cell in only necessary for plotting below\n",
    "import matplotlib.pylab as plt \n",
    "import nilearn \n",
    "import nilearn.plotting \n",
    "\n",
    "import numpy as np\n",
    "import nibabel as nib\n",
    "import os\n",
    "from os import listdir\n",
    "from os.path import isfile, join"
   ]
  },
  {
   "cell_type": "code",
   "execution_count": 20,
   "metadata": {
    "collapsed": true
   },
   "outputs": [],
   "source": [
    "# first import the input list from the csv file\n",
    "import pandas as pd\n",
    "# read in csv\n",
    "df_phen = pd.read_csv('./data/SelectedSubjects.csv')\n",
    "selected = list(df_phen.filename_npy)"
   ]
  },
  {
   "cell_type": "code",
   "execution_count": 26,
   "metadata": {
    "collapsed": true
   },
   "outputs": [],
   "source": [
    "def rebuild_nii_individ(num):\n",
    "    \n",
    "    for index in range(len(selected)):\n",
    "        \n",
    "        sub = selected[index]\n",
    "        #print(sub)\n",
    "        data = np.load('./data/Outputs/Regs/%s' % sub)\n",
    "        a = data[:,num].astype('float32')\n",
    "        nim = nib.load('./ROIs_Mask/cc400_roi_atlas.nii')\n",
    "        imdat = nim.get_data().astype('float32')\n",
    "        \n",
    "        #print(np.unique(a))\n",
    "        for i in np.unique(imdat):\n",
    "            #a[a>0.1] = 0\n",
    "            #a[a<-0.1] = 0\n",
    "            if i != 0 and i < 392:\n",
    "                imdat[imdat == i] = a[int(i)-1]\n",
    "            elif i >= 392:\n",
    "                imdat[imdat == i] = np.nan\n",
    "\n",
    "        nim_out = nib.Nifti1Image(imdat, nim.get_affine(), nim.get_header())\n",
    "        nim_out.set_data_dtype('float32')\n",
    "        # to save:\n",
    "        nim_out.to_filename(os.getcwd() + '/data/Outputs/individual/' + 'res' + sub + str(num) + '.nii')"
   ]
  },
  {
   "cell_type": "code",
   "execution_count": 27,
   "metadata": {
    "collapsed": false
   },
   "outputs": [],
   "source": [
    "nims = rebuild_nii_individ(0)"
   ]
  },
  {
   "cell_type": "code",
   "execution_count": null,
   "metadata": {
    "collapsed": true
   },
   "outputs": [],
   "source": []
  }
 ],
 "metadata": {
  "kernelspec": {
   "display_name": "Python 2",
   "language": "python",
   "name": "python2"
  },
  "language_info": {
   "codemirror_mode": {
    "name": "ipython",
    "version": 2
   },
   "file_extension": ".py",
   "mimetype": "text/x-python",
   "name": "python",
   "nbconvert_exporter": "python",
   "pygments_lexer": "ipython2",
   "version": "2.7.12"
  }
 },
 "nbformat": 4,
 "nbformat_minor": 0
}
